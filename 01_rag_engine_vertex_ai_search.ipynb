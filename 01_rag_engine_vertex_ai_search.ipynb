{
  "cells": [
    {
      "cell_type": "markdown",
      "metadata": {},
      "source": [
        "# Rag Engine"
      ]
    },
    {
      "cell_type": "code",
      "execution_count": 2,
      "metadata": {
        "id": "tFy3H3aPgx12"
      },
      "outputs": [],
      "source": [
        "# !pip install -U --user --quiet google-cloud-aiplatform google-cloud-discoveryengine\n",
        "# !pip install -U google-genai"
      ]
    },
    {
      "cell_type": "code",
      "execution_count": 4,
      "metadata": {
        "id": "Nqwi-5ufWp_B"
      },
      "outputs": [],
      "source": [
        "import os\n",
        "from google.api_core.client_options import ClientOptions\n",
        "from google.cloud import discoveryengine\n",
        "from vertexai.preview import rag\n",
        "import vertexai\n",
        "\n",
        "PROJECT_ID = \"hello-world-418507\"\n",
        "LOCATION = \"us-central1\"\n",
        "VERTEX_AI_SEARCH_LOCATION = \"global\"\n",
        "vertexai.init(project=PROJECT_ID, location=LOCATION)"
      ]
    },
    {
      "cell_type": "markdown",
      "metadata": {},
      "source": [
        "## Configuration"
      ]
    },
    {
      "cell_type": "code",
      "execution_count": 5,
      "metadata": {},
      "outputs": [],
      "source": [
        "# The datastore name can only contain lowercase letters, numbers, and hyphens\n",
        "DATASTORE_NAME = \"2025-test-datastore-name\"\n",
        "DATASTORE_ID = f\"{DATASTORE_NAME}-id\"\n",
        "\n",
        "GCS_BUCKET = \"gs://2025-traveloka-gds\"\n"
      ]
    },
    {
      "cell_type": "markdown",
      "metadata": {},
      "source": [
        "# Part 1 - Datastore (Run once only)"
      ]
    },
    {
      "cell_type": "markdown",
      "metadata": {
        "id": "kfkQMK1yBnN6"
      },
      "source": [
        "### Create and Populate a Datastore\n",
        "\n",
        "RAG is not supported for the Vertex AI Search DataStore with 'chunking config'."
      ]
    },
    {
      "cell_type": "code",
      "execution_count": 4,
      "metadata": {
        "id": "MwUPv8h5BqEJ"
      },
      "outputs": [],
      "source": [
        "def create_data_store(\n",
        "    project_id: str, location: str, data_store_name: str, data_store_id: str\n",
        "):\n",
        "    # Create a client\n",
        "    client_options = (\n",
        "        ClientOptions(api_endpoint=f\"{location}-discoveryengine.googleapis.com\")\n",
        "        if location != \"global\"\n",
        "        else None\n",
        "    )\n",
        "    client = discoveryengine.DataStoreServiceClient(client_options=client_options)\n",
        "\n",
        "    # Initialize request argument(s)\n",
        "    data_store = discoveryengine.DataStore(\n",
        "        display_name=data_store_name,\n",
        "        industry_vertical=discoveryengine.IndustryVertical.GENERIC,\n",
        "        content_config=discoveryengine.DataStore.ContentConfig.CONTENT_REQUIRED,\n",
        "    )\n",
        "\n",
        "    operation = client.create_data_store(\n",
        "        request=discoveryengine.CreateDataStoreRequest(\n",
        "            parent=client.collection_path(project_id, location, \"default_collection\"),\n",
        "            data_store=data_store,\n",
        "            data_store_id=data_store_id,\n",
        "        )\n",
        "    )\n",
        "\n",
        "    # Make the request\n",
        "    response = operation.result(timeout=90)\n",
        "    return response.name"
      ]
    },
    {
      "cell_type": "code",
      "execution_count": 7,
      "metadata": {
        "id": "jRMWKUJXBwhu"
      },
      "outputs": [],
      "source": [
        "def import_documents(\n",
        "    project_id: str,\n",
        "    location: str,\n",
        "    data_store_id: str,\n",
        "    gcs_uri: str, # Bucket path\n",
        "):\n",
        "    # Create a client\n",
        "    client_options = (\n",
        "        ClientOptions(api_endpoint=f\"{location}-discoveryengine.googleapis.com\")\n",
        "        if location != \"global\"\n",
        "        else None\n",
        "    )\n",
        "    client = discoveryengine.DocumentServiceClient(client_options=client_options)\n",
        "\n",
        "    # The full resource name of the search engine branch.\n",
        "    # e.g. projects/{project}/locations/{location}/dataStores/{data_store_id}/branches/{branch}\n",
        "    parent = client.branch_path(\n",
        "        project=project_id,\n",
        "        location=location,\n",
        "        data_store=data_store_id,\n",
        "        branch=\"default_branch\",\n",
        "    )\n",
        "\n",
        "    source_documents = [f\"{gcs_uri}/*\"]\n",
        "\n",
        "    request = discoveryengine.ImportDocumentsRequest(\n",
        "        parent=parent,\n",
        "        gcs_source=discoveryengine.GcsSource(\n",
        "            input_uris=source_documents, data_schema=\"content\"\n",
        "        ),\n",
        "        # Options: `FULL`, `INCREMENTAL`\n",
        "        reconciliation_mode=discoveryengine.ImportDocumentsRequest.ReconciliationMode.INCREMENTAL,\n",
        "    )\n",
        "\n",
        "    # Make the request\n",
        "    operation = client.import_documents(request=request)\n",
        "\n",
        "    response = operation.result()\n",
        "\n",
        "    # Once the operation is complete,\n",
        "    # get information from operation metadata\n",
        "    metadata = discoveryengine.ImportDocumentsMetadata(operation.metadata)\n",
        "\n",
        "    # Handle the response\n",
        "    return operation.operation.name"
      ]
    },
    {
      "cell_type": "code",
      "execution_count": 5,
      "metadata": {},
      "outputs": [
        {
          "data": {
            "text/plain": [
              "'projects/671247654914/locations/global/collections/default_collection/dataStores/2025-test-datastore-name-id'"
            ]
          },
          "execution_count": 5,
          "metadata": {},
          "output_type": "execute_result"
        }
      ],
      "source": [
        "create_data_store(PROJECT_ID, VERTEX_AI_SEARCH_LOCATION, DATASTORE_NAME, DATASTORE_ID)"
      ]
    },
    {
      "cell_type": "code",
      "execution_count": null,
      "metadata": {
        "id": "fJlFkhe7BznS"
      },
      "outputs": [],
      "source": [
        "import_documents(PROJECT_ID, VERTEX_AI_SEARCH_LOCATION, DATASTORE_ID, GCS_BUCKET)"
      ]
    },
    {
      "cell_type": "markdown",
      "metadata": {
        "id": "gvrbLtDj6zCv"
      },
      "source": [
        "## Part 2 - Create a Search Engine (Run once only)"
      ]
    },
    {
      "cell_type": "code",
      "execution_count": 11,
      "metadata": {
        "id": "GHaRWVvZ6vOc"
      },
      "outputs": [],
      "source": [
        "def create_engine(\n",
        "    project_id: str, location: str, engine_name: str, engine_id: str, data_store_id: str\n",
        "):\n",
        "    # Create a client\n",
        "    client_options = (\n",
        "        ClientOptions(api_endpoint=f\"{location}-discoveryengine.googleapis.com\")\n",
        "        if location != \"global\"\n",
        "        else None\n",
        "    )\n",
        "    client = discoveryengine.EngineServiceClient(client_options=client_options)\n",
        "\n",
        "    # Initialize request argument(s)\n",
        "    engine = discoveryengine.Engine(\n",
        "        display_name=engine_name,\n",
        "        solution_type=discoveryengine.SolutionType.SOLUTION_TYPE_SEARCH,\n",
        "        industry_vertical=discoveryengine.IndustryVertical.GENERIC,\n",
        "        data_store_ids=[data_store_id],\n",
        "        search_engine_config=discoveryengine.Engine.SearchEngineConfig(\n",
        "            search_tier=discoveryengine.SearchTier.SEARCH_TIER_ENTERPRISE,\n",
        "        ),\n",
        "    )\n",
        "    print(engine.display_name)\n",
        "\n",
        "    request = discoveryengine.CreateEngineRequest(\n",
        "        parent=client.collection_path(project_id, location, \"default_collection\"),\n",
        "        engine=engine,\n",
        "        engine_id=engine_id,\n",
        "    )\n",
        "\n",
        "    # Make the request\n",
        "    operation = client.create_engine(request=request)\n",
        "    response = operation.result(timeout=90)\n",
        "    return response.name"
      ]
    },
    {
      "cell_type": "code",
      "execution_count": 12,
      "metadata": {},
      "outputs": [
        {
          "data": {
            "text/plain": [
              "('2025-test-datastore-name', '2025-test-datastore-name-id')"
            ]
          },
          "execution_count": 12,
          "metadata": {},
          "output_type": "execute_result"
        }
      ],
      "source": [
        "DATASTORE_NAME, DATASTORE_ID"
      ]
    },
    {
      "cell_type": "code",
      "execution_count": 13,
      "metadata": {
        "id": "6Z21T3Pm8ngv"
      },
      "outputs": [
        {
          "name": "stdout",
          "output_type": "stream",
          "text": [
            "2025-test-datastore-name-engine\n"
          ]
        },
        {
          "data": {
            "text/plain": [
              "'projects/671247654914/locations/global/collections/default_collection/engines/2025-test-datastore-name-id-engine'"
            ]
          },
          "execution_count": 13,
          "metadata": {},
          "output_type": "execute_result"
        }
      ],
      "source": [
        "ENGINE_NAME = DATASTORE_NAME + \"-engine\"\n",
        "ENGINE_ID = DATASTORE_ID + \"-engine\"\n",
        "\n",
        "response = create_engine(\n",
        "    project_id=PROJECT_ID,\n",
        "    location=VERTEX_AI_SEARCH_LOCATION,\n",
        "    engine_name=ENGINE_NAME,\n",
        "    engine_id=ENGINE_ID,\n",
        "    data_store_id=DATASTORE_ID,\n",
        ")\n",
        "\n",
        "response"
      ]
    },
    {
      "cell_type": "markdown",
      "metadata": {
        "id": "EdvJRUWRNGHE"
      },
      "source": [
        "## Part 3 - Create corpus"
      ]
    },
    {
      "cell_type": "code",
      "execution_count": 6,
      "metadata": {
        "id": "6fc324893334"
      },
      "outputs": [],
      "source": [
        "from vertexai.preview import rag"
      ]
    },
    {
      "cell_type": "code",
      "execution_count": null,
      "metadata": {},
      "outputs": [],
      "source": [
        "VERTEX_AI_SEARCH_LOCATION, ENGINE_NAME, ENGINE_ID"
      ]
    },
    {
      "cell_type": "code",
      "execution_count": 33,
      "metadata": {
        "id": "cf93d5f0ce00"
      },
      "outputs": [
        {
          "name": "stdout",
          "output_type": "stream",
          "text": [
            "projects/hello-world-418507/locations/global/collections/default_collection/engines/2025-test-datastore-name-id-engine/servingConfigs/default_search\n"
          ]
        }
      ],
      "source": [
        "\"\"\"\n",
        "Format:\n",
        "    ``projects/{project}/locations/{location}/collections/{collection}/engines/{engine_id}/servingConfigs/{serving_config}``\n",
        "or\n",
        "    ``projects/{project}/locations/{location}/collections/{collection}/dataStores/{data_store_id}/servingConfigs/{serving_config}``\n",
        "\"\"\"\n",
        "\n",
        "config = f\"projects/{PROJECT_ID}/locations/{VERTEX_AI_SEARCH_LOCATION}/collections/default_collection/engines/{ENGINE_ID}/servingConfigs/default_search\"\n",
        "print(config)\n",
        "\n",
        "vertex_ai_search_config = rag.VertexAiSearchConfig(\n",
        "    serving_config=config,\n",
        ")\n"
      ]
    },
    {
      "cell_type": "code",
      "execution_count": 34,
      "metadata": {},
      "outputs": [],
      "source": [
        "rag_corpus = rag.create_corpus(\n",
        "    display_name=ENGINE_NAME,\n",
        "    vertex_ai_search_config=vertex_ai_search_config,\n",
        ")\n"
      ]
    },
    {
      "cell_type": "code",
      "execution_count": 35,
      "metadata": {},
      "outputs": [
        {
          "name": "stdout",
          "output_type": "stream",
          "text": [
            "projects/671247654914/locations/us-central1/ragCorpora/1113515007867355136\n"
          ]
        }
      ],
      "source": [
        "print(rag_corpus.name)"
      ]
    },
    {
      "cell_type": "code",
      "execution_count": 36,
      "metadata": {
        "id": "2834a2721633"
      },
      "outputs": [
        {
          "data": {
            "text/plain": [
              "RagCorpus(name='projects/671247654914/locations/us-central1/ragCorpora/1113515007867355136', display_name='2025-test-datastore-name-engine', description='', embedding_model_config=EmbeddingModelConfig(publisher_model=None, endpoint=None, model=None, model_version_id=None), vector_db=None, vertex_ai_search_config=VertexAiSearchConfig(serving_config='projects/hello-world-418507/locations/global/collections/default_collection/engines/2025-test-datastore-name-id-engine/servingConfigs/default_search'), backend_config=RagVectorDbConfig(vector_db=None, rag_embedding_model_config=None))"
            ]
          },
          "execution_count": 36,
          "metadata": {},
          "output_type": "execute_result"
        }
      ],
      "source": [
        "# Check the corpus just created\n",
        "new_corpus = rag.get_corpus(name=rag_corpus.name)\n",
        "new_corpus"
      ]
    },
    {
      "cell_type": "markdown",
      "metadata": {},
      "source": [
        "## List corpora"
      ]
    },
    {
      "cell_type": "code",
      "execution_count": 7,
      "metadata": {},
      "outputs": [
        {
          "data": {
            "text/plain": [
              "ListRagCorporaPager<rag_corpora {\n",
              "  name: \"projects/hello-world-418507/locations/us-central1/ragCorpora/1113515007867355136\"\n",
              "  display_name: \"2025-test-datastore-name-engine\"\n",
              "  create_time {\n",
              "    seconds: 1742560106\n",
              "    nanos: 86801000\n",
              "  }\n",
              "  update_time {\n",
              "    seconds: 1742560106\n",
              "    nanos: 86801000\n",
              "  }\n",
              "  corpus_status {\n",
              "    state: ACTIVE\n",
              "  }\n",
              "  vertex_ai_search_config {\n",
              "    serving_config: \"projects/hello-world-418507/locations/global/collections/default_collection/engines/2025-test-datastore-name-id-engine/servingConfigs/default_search\"\n",
              "  }\n",
              "}\n",
              "rag_corpora {\n",
              "  name: \"projects/hello-world-418507/locations/us-central1/ragCorpora/4611686018427387904\"\n",
              "  display_name: \"Test_corpus\"\n",
              "  description: \"Corpus_for_simple_test.\"\n",
              "  create_time {\n",
              "    seconds: 1743424713\n",
              "    nanos: 154943000\n",
              "  }\n",
              "  update_time {\n",
              "    seconds: 1743424713\n",
              "    nanos: 154943000\n",
              "  }\n",
              "  rag_embedding_model_config {\n",
              "    vertex_prediction_endpoint {\n",
              "      endpoint: \"projects/hello-world-418507/locations/us-central1/publishers/google/models/text-embedding-004\"\n",
              "    }\n",
              "  }\n",
              "  rag_vector_db_config {\n",
              "    rag_managed_db {\n",
              "    }\n",
              "    rag_embedding_model_config {\n",
              "      vertex_prediction_endpoint {\n",
              "        endpoint: \"projects/hello-world-418507/locations/us-central1/publishers/google/models/text-embedding-004\"\n",
              "      }\n",
              "    }\n",
              "  }\n",
              "  corpus_status {\n",
              "    state: ACTIVE\n",
              "  }\n",
              "  vector_db_config {\n",
              "    rag_managed_db {\n",
              "    }\n",
              "    rag_embedding_model_config {\n",
              "      vertex_prediction_endpoint {\n",
              "        endpoint: \"projects/hello-world-418507/locations/us-central1/publishers/google/models/text-embedding-004\"\n",
              "      }\n",
              "    }\n",
              "  }\n",
              "  rag_files_count: 1\n",
              "}\n",
              ">"
            ]
          },
          "execution_count": 7,
          "metadata": {},
          "output_type": "execute_result"
        }
      ],
      "source": [
        "rag.list_corpora()"
      ]
    },
    {
      "cell_type": "markdown",
      "metadata": {},
      "source": [
        "# Part 4 - Retrieval"
      ]
    },
    {
      "cell_type": "markdown",
      "metadata": {},
      "source": [
        "### Query with Rag Engine"
      ]
    },
    {
      "cell_type": "code",
      "execution_count": 8,
      "metadata": {},
      "outputs": [
        {
          "name": "stdout",
          "output_type": "stream",
          "text": [
            "RagResource(rag_corpus='projects/671247654914/locations/us-central1/ragCorpora/1113515007867355136', rag_file_ids=None)\n",
            "contexts {\n",
            "  contexts {\n",
            "    source_uri: \"gs://2025-traveloka-gds/FOD-[INTERNAL] Sabre - Manual Refund Fully Unused Ticket-040325-042757.pdf\"\n",
            "    text: \"Once you do, the following displays: ETR REFUND MESSAGE PROCESSED REA ISSUE N/A Check refunded amount There are several ways to check the refund amount once the ticket is refunded in GDS, ensure you are in the correct PCC to be able to pull out the correct information.\"\n",
            "    source_display_name: \"[INTERNAL] Sabre - Manual Refund Fully Unused Ticket - Flight Ops Knowledge Base - Confluence\"\n",
            "  }\n",
            "  contexts {\n",
            "    source_uri: \"gs://2025-traveloka-gds/Electronic Ticket - Sabre Fares & Ticketing Guide.pdf\"\n",
            "    text: \"ETR REFUND Refund untuk Electronic Ticket dapat dilakukan melalui system Abacus, tidak perlu melakukan refund secara manual. Refund dapat dilakukan dengan 2 cara : a. Current PNR b. Past Date PNR Step – step untuk Current PNR 1. Retrieve PNR 2. *T 3. WETR*(LINE NUMBER) ex. WETR*2 4.\"\n",
            "    source_display_name: \"Microsoft Word - Electronic Ticket - Sabre Fares & Ticketing Guide\"\n",
            "  }\n",
            "  contexts {\n",
            "    source_uri: \"gs://2025-traveloka-gds/How to Understand Fare Rule Categories.pdf\"\n",
            "    text: \"Some alpha codes represent individual categories, while others group rules together by topic. You can use any of the alpha codes together, up to a maximum of five alpha codes (not counting the IC code), in a single entry.\"\n",
            "    source_display_name: \"How to Understand Fare Rule Categories\"\n",
            "  }\n",
            "  contexts {\n",
            "    source_uri: \"gs://2025-traveloka-gds/Display the Database Ticket Image (WTDB_).pdf\"\n",
            "    text: \"How long does Sabre hold the ticket image in the ticket image database?\"\n",
            "    source_display_name: \"Display the Database Ticket Image (WTDB*)\"\n",
            "  }\n",
            "  contexts {\n",
            "    source_uri: \"gs://2025-traveloka-gds/Modul Basic Reservation -sabre- up to date_08JUL19.pdf\"\n",
            "    text: \"Cara menghapus remarks yaitu : 52¤ delete remarks di line ke 2 53-6¤ delete remarks di line ke 3 s/d 6 54,6,9¤ delete remarks di line ke 4, 6 dan 9.\"\n",
            "    source_display_name: \"Modul Basic Reservation -sabre- up to date_08JUL19\"\n",
            "  }\n",
            "}\n",
            "\n"
          ]
        }
      ],
      "source": [
        "RETRIEVAL_QUERY = \"How to do full refund for unused ticket?\"\n",
        "\n",
        "rag_resource = rag.RagResource(rag_corpus=\"projects/671247654914/locations/us-central1/ragCorpora/1113515007867355136\")\n",
        "print(rag_resource)\n",
        "\n",
        "rag_retrieval_config = rag.RagRetrievalConfig(\n",
        "    top_k=5,  # Optional\n",
        "    filter=rag.Filter(\n",
        "        vector_distance_threshold=0.2,  # Optional\n",
        "    ),\n",
        ")\n",
        "\n",
        "response = rag.retrieval_query(\n",
        "    rag_resources=[rag_resource],  # Currently only 1 corpus is allowed.\n",
        "    text=RETRIEVAL_QUERY,\n",
        "    similarity_top_k=10,\n",
        "    # rag_retrieval_config=rag_retrieval_config\n",
        ")\n",
        "print(response)\n"
      ]
    },
    {
      "cell_type": "markdown",
      "metadata": {
        "id": "e1c1c7944dc8"
      },
      "source": [
        "## Query with Gemini\n"
      ]
    },
    {
      "cell_type": "code",
      "execution_count": 9,
      "metadata": {},
      "outputs": [],
      "source": [
        "from rich import print as rich_print\n",
        "\n",
        "from google.genai.types import (\n",
        "    GenerateContentConfig,\n",
        "    VertexRagStore,\n",
        "    Retrieval,\n",
        "    Tool,\n",
        "    VertexAISearch,\n",
        ")\n",
        "from google import genai\n"
      ]
    },
    {
      "cell_type": "code",
      "execution_count": 10,
      "metadata": {},
      "outputs": [
        {
          "data": {
            "text/html": [
              "<pre style=\"white-space:pre;overflow-x:auto;line-height:normal;font-family:Menlo,'DejaVu Sans Mono',consolas,'Courier New',monospace\"><span style=\"color: #800080; text-decoration-color: #800080; font-weight: bold\">GenerateContentResponse</span><span style=\"font-weight: bold\">(</span>\n",
              "    <span style=\"color: #808000; text-decoration-color: #808000\">candidates</span>=<span style=\"font-weight: bold\">[</span>\n",
              "        <span style=\"color: #800080; text-decoration-color: #800080; font-weight: bold\">Candidate</span><span style=\"font-weight: bold\">(</span>\n",
              "            <span style=\"color: #808000; text-decoration-color: #808000\">content</span>=<span style=\"color: #800080; text-decoration-color: #800080; font-weight: bold\">Content</span><span style=\"font-weight: bold\">(</span>\n",
              "                <span style=\"color: #808000; text-decoration-color: #808000\">parts</span>=<span style=\"font-weight: bold\">[</span>\n",
              "                    <span style=\"color: #800080; text-decoration-color: #800080; font-weight: bold\">Part</span><span style=\"font-weight: bold\">(</span>\n",
              "                        <span style=\"color: #808000; text-decoration-color: #808000\">video_metadata</span>=<span style=\"color: #800080; text-decoration-color: #800080; font-style: italic\">None</span>,\n",
              "                        <span style=\"color: #808000; text-decoration-color: #808000\">thought</span>=<span style=\"color: #800080; text-decoration-color: #800080; font-style: italic\">None</span>,\n",
              "                        <span style=\"color: #808000; text-decoration-color: #808000\">code_execution_result</span>=<span style=\"color: #800080; text-decoration-color: #800080; font-style: italic\">None</span>,\n",
              "                        <span style=\"color: #808000; text-decoration-color: #808000\">executable_code</span>=<span style=\"color: #800080; text-decoration-color: #800080; font-style: italic\">None</span>,\n",
              "                        <span style=\"color: #808000; text-decoration-color: #808000\">file_data</span>=<span style=\"color: #800080; text-decoration-color: #800080; font-style: italic\">None</span>,\n",
              "                        <span style=\"color: #808000; text-decoration-color: #808000\">function_call</span>=<span style=\"color: #800080; text-decoration-color: #800080; font-style: italic\">None</span>,\n",
              "                        <span style=\"color: #808000; text-decoration-color: #808000\">function_response</span>=<span style=\"color: #800080; text-decoration-color: #800080; font-style: italic\">None</span>,\n",
              "                        <span style=\"color: #808000; text-decoration-color: #808000\">inline_data</span>=<span style=\"color: #800080; text-decoration-color: #800080; font-style: italic\">None</span>,\n",
              "                        <span style=\"color: #808000; text-decoration-color: #808000\">text</span>=<span style=\"color: #008000; text-decoration-color: #008000\">'In Sabre, you can refund an electronic ticket (ETR) through the system without manual</span>\n",
              "<span style=\"color: #008000; text-decoration-color: #008000\">processing. This can be done for both current and past date Passenger Name Records (PNR).\\n\\nTo refund a current </span>\n",
              "<span style=\"color: #008000; text-decoration-color: #008000\">PNR:\\n\\n1.  Retrieve the PNR.\\n2.  Enter \\\\*T.\\n3.  Enter WETR\\\\*(LINE NUMBER) (e.g., WETR\\\\*2).\\n\\nAfter refunding</span>\n",
              "<span style=\"color: #008000; text-decoration-color: #008000\">a ticket in GDS, you can check the refunded amount. Once processed, the system will display: ETR REFUND MESSAGE </span>\n",
              "<span style=\"color: #008000; text-decoration-color: #008000\">PROCESSED REA ISSUE N/A. Ensure you are in the correct PCC to pull the correct information.\\n'</span>\n",
              "                    <span style=\"font-weight: bold\">)</span>\n",
              "                <span style=\"font-weight: bold\">]</span>,\n",
              "                <span style=\"color: #808000; text-decoration-color: #808000\">role</span>=<span style=\"color: #008000; text-decoration-color: #008000\">'model'</span>\n",
              "            <span style=\"font-weight: bold\">)</span>,\n",
              "            <span style=\"color: #808000; text-decoration-color: #808000\">citation_metadata</span>=<span style=\"color: #800080; text-decoration-color: #800080; font-style: italic\">None</span>,\n",
              "            <span style=\"color: #808000; text-decoration-color: #808000\">finish_message</span>=<span style=\"color: #800080; text-decoration-color: #800080; font-style: italic\">None</span>,\n",
              "            <span style=\"color: #808000; text-decoration-color: #808000\">token_count</span>=<span style=\"color: #800080; text-decoration-color: #800080; font-style: italic\">None</span>,\n",
              "            <span style=\"color: #808000; text-decoration-color: #808000\">finish_reason</span>=<span style=\"font-weight: bold\">&lt;</span><span style=\"color: #ff00ff; text-decoration-color: #ff00ff; font-weight: bold\">FinishReason.STOP:</span><span style=\"color: #000000; text-decoration-color: #000000\"> </span><span style=\"color: #008000; text-decoration-color: #008000\">'STOP'</span><span style=\"color: #000000; text-decoration-color: #000000\">&gt;,</span>\n",
              "<span style=\"color: #000000; text-decoration-color: #000000\">            </span><span style=\"color: #808000; text-decoration-color: #808000\">avg_logprobs</span><span style=\"color: #000000; text-decoration-color: #000000\">=</span><span style=\"color: #008080; text-decoration-color: #008080; font-weight: bold\">-0.13706814801251446</span><span style=\"color: #000000; text-decoration-color: #000000\">,</span>\n",
              "<span style=\"color: #000000; text-decoration-color: #000000\">            </span><span style=\"color: #808000; text-decoration-color: #808000\">grounding_metadata</span><span style=\"color: #000000; text-decoration-color: #000000\">=</span><span style=\"color: #800080; text-decoration-color: #800080; font-weight: bold\">GroundingMetadata</span><span style=\"color: #000000; text-decoration-color: #000000; font-weight: bold\">(</span>\n",
              "<span style=\"color: #000000; text-decoration-color: #000000\">                </span><span style=\"color: #808000; text-decoration-color: #808000\">grounding_chunks</span><span style=\"color: #000000; text-decoration-color: #000000\">=</span><span style=\"color: #000000; text-decoration-color: #000000; font-weight: bold\">[</span>\n",
              "<span style=\"color: #000000; text-decoration-color: #000000\">                    </span><span style=\"color: #800080; text-decoration-color: #800080; font-weight: bold\">GroundingChunk</span><span style=\"color: #000000; text-decoration-color: #000000; font-weight: bold\">(</span>\n",
              "<span style=\"color: #000000; text-decoration-color: #000000\">                        </span><span style=\"color: #808000; text-decoration-color: #808000\">retrieved_context</span><span style=\"color: #000000; text-decoration-color: #000000\">=</span><span style=\"color: #800080; text-decoration-color: #800080; font-weight: bold\">GroundingChunkRetrievedContext</span><span style=\"color: #000000; text-decoration-color: #000000; font-weight: bold\">(</span>\n",
              "<span style=\"color: #000000; text-decoration-color: #000000\">                            </span><span style=\"color: #808000; text-decoration-color: #808000\">text</span><span style=\"color: #000000; text-decoration-color: #000000\">=</span><span style=\"color: #008000; text-decoration-color: #008000\">'Once you do, the following displays: ETR REFUND MESSAGE PROCESSED REA ISSUE N/A </span>\n",
              "<span style=\"color: #008000; text-decoration-color: #008000\">Check refunded amount There are several ways to check the refund amount once the ticket is refunded in GDS, ensure </span>\n",
              "<span style=\"color: #008000; text-decoration-color: #008000\">you are in the correct PCC to be able to pull out the correct information.'</span><span style=\"color: #000000; text-decoration-color: #000000\">,</span>\n",
              "<span style=\"color: #000000; text-decoration-color: #000000\">                            </span><span style=\"color: #808000; text-decoration-color: #808000\">title</span><span style=\"color: #000000; text-decoration-color: #000000\">=</span><span style=\"color: #008000; text-decoration-color: #008000\">'[INTERNAL] Sabre - Manual Refund Fully Unused Ticket - Flight Ops Knowledge Base</span>\n",
              "<span style=\"color: #008000; text-decoration-color: #008000\">- Confluence'</span><span style=\"color: #000000; text-decoration-color: #000000\">,</span>\n",
              "<span style=\"color: #000000; text-decoration-color: #000000\">                            </span><span style=\"color: #808000; text-decoration-color: #808000\">uri</span><span style=\"color: #000000; text-decoration-color: #000000\">=</span><span style=\"color: #008000; text-decoration-color: #008000\">'gs://2025-traveloka-gds/FOD-[INTERNAL] Sabre - Manual Refund Fully Unused </span>\n",
              "<span style=\"color: #008000; text-decoration-color: #008000\">Ticket-040325-042757.pdf'</span>\n",
              "<span style=\"color: #000000; text-decoration-color: #000000\">                        </span><span style=\"color: #000000; text-decoration-color: #000000; font-weight: bold\">)</span><span style=\"color: #000000; text-decoration-color: #000000\">,</span>\n",
              "<span style=\"color: #000000; text-decoration-color: #000000\">                        </span><span style=\"color: #808000; text-decoration-color: #808000\">web</span><span style=\"color: #000000; text-decoration-color: #000000\">=</span><span style=\"color: #800080; text-decoration-color: #800080; font-style: italic\">None</span>\n",
              "<span style=\"color: #000000; text-decoration-color: #000000\">                    </span><span style=\"color: #000000; text-decoration-color: #000000; font-weight: bold\">)</span><span style=\"color: #000000; text-decoration-color: #000000\">,</span>\n",
              "<span style=\"color: #000000; text-decoration-color: #000000\">                    </span><span style=\"color: #800080; text-decoration-color: #800080; font-weight: bold\">GroundingChunk</span><span style=\"color: #000000; text-decoration-color: #000000; font-weight: bold\">(</span>\n",
              "<span style=\"color: #000000; text-decoration-color: #000000\">                        </span><span style=\"color: #808000; text-decoration-color: #808000\">retrieved_context</span><span style=\"color: #000000; text-decoration-color: #000000\">=</span><span style=\"color: #800080; text-decoration-color: #800080; font-weight: bold\">GroundingChunkRetrievedContext</span><span style=\"color: #000000; text-decoration-color: #000000; font-weight: bold\">(</span>\n",
              "<span style=\"color: #000000; text-decoration-color: #000000\">                            </span><span style=\"color: #808000; text-decoration-color: #808000\">text</span><span style=\"color: #000000; text-decoration-color: #000000\">=</span><span style=\"color: #008000; text-decoration-color: #008000\">'ETR REFUND Refund untuk Electronic Ticket dapat dilakukan melalui system Abacus, </span>\n",
              "<span style=\"color: #008000; text-decoration-color: #008000\">tidak perlu melakukan refund secara manual. Refund dapat dilakukan dengan 2 cara : a. Current PNR b. Past Date PNR </span>\n",
              "<span style=\"color: #008000; text-decoration-color: #008000\">Step – step untuk Current PNR 1. Retrieve PNR 2. *T 3. WETR*(LINE NUMBER) ex. WETR*2 4.'</span><span style=\"color: #000000; text-decoration-color: #000000\">,</span>\n",
              "<span style=\"color: #000000; text-decoration-color: #000000\">                            </span><span style=\"color: #808000; text-decoration-color: #808000\">title</span><span style=\"color: #000000; text-decoration-color: #000000\">=</span><span style=\"color: #008000; text-decoration-color: #008000\">'Microsoft Word - Electronic Ticket - Sabre Fares &amp; Ticketing Guide'</span><span style=\"color: #000000; text-decoration-color: #000000\">,</span>\n",
              "<span style=\"color: #000000; text-decoration-color: #000000\">                            </span><span style=\"color: #808000; text-decoration-color: #808000\">uri</span><span style=\"color: #000000; text-decoration-color: #000000\">=</span><span style=\"color: #008000; text-decoration-color: #008000\">'gs://2025-traveloka-gds/Electronic Ticket - Sabre Fares &amp; Ticketing Guide.pdf'</span>\n",
              "<span style=\"color: #000000; text-decoration-color: #000000\">                        </span><span style=\"color: #000000; text-decoration-color: #000000; font-weight: bold\">)</span><span style=\"color: #000000; text-decoration-color: #000000\">,</span>\n",
              "<span style=\"color: #000000; text-decoration-color: #000000\">                        </span><span style=\"color: #808000; text-decoration-color: #808000\">web</span><span style=\"color: #000000; text-decoration-color: #000000\">=</span><span style=\"color: #800080; text-decoration-color: #800080; font-style: italic\">None</span>\n",
              "<span style=\"color: #000000; text-decoration-color: #000000\">                    </span><span style=\"color: #000000; text-decoration-color: #000000; font-weight: bold\">)</span><span style=\"color: #000000; text-decoration-color: #000000\">,</span>\n",
              "<span style=\"color: #000000; text-decoration-color: #000000\">                    </span><span style=\"color: #800080; text-decoration-color: #800080; font-weight: bold\">GroundingChunk</span><span style=\"color: #000000; text-decoration-color: #000000; font-weight: bold\">(</span>\n",
              "<span style=\"color: #000000; text-decoration-color: #000000\">                        </span><span style=\"color: #808000; text-decoration-color: #808000\">retrieved_context</span><span style=\"color: #000000; text-decoration-color: #000000\">=</span><span style=\"color: #800080; text-decoration-color: #800080; font-weight: bold\">GroundingChunkRetrievedContext</span><span style=\"color: #000000; text-decoration-color: #000000; font-weight: bold\">(</span>\n",
              "<span style=\"color: #000000; text-decoration-color: #000000\">                            </span><span style=\"color: #808000; text-decoration-color: #808000\">text</span><span style=\"color: #000000; text-decoration-color: #000000\">=</span><span style=\"color: #008000; text-decoration-color: #008000\">'Some alpha codes represent individual categories, while others group rules </span>\n",
              "<span style=\"color: #008000; text-decoration-color: #008000\">together by topic. You can use any of the alpha codes together, up to a maximum of five alpha codes (not counting </span>\n",
              "<span style=\"color: #008000; text-decoration-color: #008000\">the IC code), in a single entry.'</span><span style=\"color: #000000; text-decoration-color: #000000\">,</span>\n",
              "<span style=\"color: #000000; text-decoration-color: #000000\">                            </span><span style=\"color: #808000; text-decoration-color: #808000\">title</span><span style=\"color: #000000; text-decoration-color: #000000\">=</span><span style=\"color: #008000; text-decoration-color: #008000\">'How to Understand Fare Rule Categories'</span><span style=\"color: #000000; text-decoration-color: #000000\">,</span>\n",
              "<span style=\"color: #000000; text-decoration-color: #000000\">                            </span><span style=\"color: #808000; text-decoration-color: #808000\">uri</span><span style=\"color: #000000; text-decoration-color: #000000\">=</span><span style=\"color: #008000; text-decoration-color: #008000\">'gs://2025-traveloka-gds/How to Understand Fare Rule Categories.pdf'</span>\n",
              "<span style=\"color: #000000; text-decoration-color: #000000\">                        </span><span style=\"color: #000000; text-decoration-color: #000000; font-weight: bold\">)</span><span style=\"color: #000000; text-decoration-color: #000000\">,</span>\n",
              "<span style=\"color: #000000; text-decoration-color: #000000\">                        </span><span style=\"color: #808000; text-decoration-color: #808000\">web</span><span style=\"color: #000000; text-decoration-color: #000000\">=</span><span style=\"color: #800080; text-decoration-color: #800080; font-style: italic\">None</span>\n",
              "<span style=\"color: #000000; text-decoration-color: #000000\">                    </span><span style=\"color: #000000; text-decoration-color: #000000; font-weight: bold\">)</span><span style=\"color: #000000; text-decoration-color: #000000\">,</span>\n",
              "<span style=\"color: #000000; text-decoration-color: #000000\">                    </span><span style=\"color: #800080; text-decoration-color: #800080; font-weight: bold\">GroundingChunk</span><span style=\"color: #000000; text-decoration-color: #000000; font-weight: bold\">(</span>\n",
              "<span style=\"color: #000000; text-decoration-color: #000000\">                        </span><span style=\"color: #808000; text-decoration-color: #808000\">retrieved_context</span><span style=\"color: #000000; text-decoration-color: #000000\">=</span><span style=\"color: #800080; text-decoration-color: #800080; font-weight: bold\">GroundingChunkRetrievedContext</span><span style=\"color: #000000; text-decoration-color: #000000; font-weight: bold\">(</span>\n",
              "<span style=\"color: #000000; text-decoration-color: #000000\">                            </span><span style=\"color: #808000; text-decoration-color: #808000\">text</span><span style=\"color: #000000; text-decoration-color: #000000\">=</span><span style=\"color: #008000; text-decoration-color: #008000\">'How long does Sabre hold the ticket image in the ticket image database?'</span><span style=\"color: #000000; text-decoration-color: #000000\">,</span>\n",
              "<span style=\"color: #000000; text-decoration-color: #000000\">                            </span><span style=\"color: #808000; text-decoration-color: #808000\">title</span><span style=\"color: #000000; text-decoration-color: #000000\">=</span><span style=\"color: #008000; text-decoration-color: #008000\">'Display the Database Ticket Image (WTDB*)'</span><span style=\"color: #000000; text-decoration-color: #000000\">,</span>\n",
              "<span style=\"color: #000000; text-decoration-color: #000000\">                            </span><span style=\"color: #808000; text-decoration-color: #808000\">uri</span><span style=\"color: #000000; text-decoration-color: #000000\">=</span><span style=\"color: #008000; text-decoration-color: #008000\">'gs://2025-traveloka-gds/Display the Database Ticket Image (WTDB_).pdf'</span>\n",
              "<span style=\"color: #000000; text-decoration-color: #000000\">                        </span><span style=\"color: #000000; text-decoration-color: #000000; font-weight: bold\">)</span><span style=\"color: #000000; text-decoration-color: #000000\">,</span>\n",
              "<span style=\"color: #000000; text-decoration-color: #000000\">                        </span><span style=\"color: #808000; text-decoration-color: #808000\">web</span><span style=\"color: #000000; text-decoration-color: #000000\">=</span><span style=\"color: #800080; text-decoration-color: #800080; font-style: italic\">None</span>\n",
              "<span style=\"color: #000000; text-decoration-color: #000000\">                    </span><span style=\"color: #000000; text-decoration-color: #000000; font-weight: bold\">)</span><span style=\"color: #000000; text-decoration-color: #000000\">,</span>\n",
              "<span style=\"color: #000000; text-decoration-color: #000000\">                    </span><span style=\"color: #800080; text-decoration-color: #800080; font-weight: bold\">GroundingChunk</span><span style=\"color: #000000; text-decoration-color: #000000; font-weight: bold\">(</span>\n",
              "<span style=\"color: #000000; text-decoration-color: #000000\">                        </span><span style=\"color: #808000; text-decoration-color: #808000\">retrieved_context</span><span style=\"color: #000000; text-decoration-color: #000000\">=</span><span style=\"color: #800080; text-decoration-color: #800080; font-weight: bold\">GroundingChunkRetrievedContext</span><span style=\"color: #000000; text-decoration-color: #000000; font-weight: bold\">(</span>\n",
              "<span style=\"color: #000000; text-decoration-color: #000000\">                            </span><span style=\"color: #808000; text-decoration-color: #808000\">text</span><span style=\"color: #000000; text-decoration-color: #000000\">=</span><span style=\"color: #008000; text-decoration-color: #008000\">'Cara menghapus remarks yaitu : 52¤ delete remarks di line ke 2 53-6¤ delete </span>\n",
              "<span style=\"color: #008000; text-decoration-color: #008000\">remarks di line ke 3 s/d 6 54,6,9¤ delete remarks di line ke 4, 6 dan 9.'</span><span style=\"color: #000000; text-decoration-color: #000000\">,</span>\n",
              "<span style=\"color: #000000; text-decoration-color: #000000\">                            </span><span style=\"color: #808000; text-decoration-color: #808000\">title</span><span style=\"color: #000000; text-decoration-color: #000000\">=</span><span style=\"color: #008000; text-decoration-color: #008000\">'Modul Basic Reservation -sabre- up to date_08JUL19'</span><span style=\"color: #000000; text-decoration-color: #000000\">,</span>\n",
              "<span style=\"color: #000000; text-decoration-color: #000000\">                            </span><span style=\"color: #808000; text-decoration-color: #808000\">uri</span><span style=\"color: #000000; text-decoration-color: #000000\">=</span><span style=\"color: #008000; text-decoration-color: #008000\">'gs://2025-traveloka-gds/Modul Basic Reservation -sabre- up to date_08JUL19.pdf'</span>\n",
              "<span style=\"color: #000000; text-decoration-color: #000000\">                        </span><span style=\"color: #000000; text-decoration-color: #000000; font-weight: bold\">)</span><span style=\"color: #000000; text-decoration-color: #000000\">,</span>\n",
              "<span style=\"color: #000000; text-decoration-color: #000000\">                        </span><span style=\"color: #808000; text-decoration-color: #808000\">web</span><span style=\"color: #000000; text-decoration-color: #000000\">=</span><span style=\"color: #800080; text-decoration-color: #800080; font-style: italic\">None</span>\n",
              "<span style=\"color: #000000; text-decoration-color: #000000\">                    </span><span style=\"color: #000000; text-decoration-color: #000000; font-weight: bold\">)</span>\n",
              "<span style=\"color: #000000; text-decoration-color: #000000\">                </span><span style=\"color: #000000; text-decoration-color: #000000; font-weight: bold\">]</span><span style=\"color: #000000; text-decoration-color: #000000\">,</span>\n",
              "<span style=\"color: #000000; text-decoration-color: #000000\">                </span><span style=\"color: #808000; text-decoration-color: #808000\">grounding_supports</span><span style=\"color: #000000; text-decoration-color: #000000\">=</span><span style=\"color: #000000; text-decoration-color: #000000; font-weight: bold\">[</span>\n",
              "<span style=\"color: #000000; text-decoration-color: #000000\">                    </span><span style=\"color: #800080; text-decoration-color: #800080; font-weight: bold\">GroundingSupport</span><span style=\"color: #000000; text-decoration-color: #000000; font-weight: bold\">(</span>\n",
              "<span style=\"color: #000000; text-decoration-color: #000000\">                        </span><span style=\"color: #808000; text-decoration-color: #808000\">confidence_scores</span><span style=\"color: #000000; text-decoration-color: #000000\">=</span><span style=\"color: #000000; text-decoration-color: #000000; font-weight: bold\">[</span><span style=\"color: #008080; text-decoration-color: #008080; font-weight: bold\">0.6503382</span><span style=\"color: #000000; text-decoration-color: #000000; font-weight: bold\">]</span><span style=\"color: #000000; text-decoration-color: #000000\">,</span>\n",
              "<span style=\"color: #000000; text-decoration-color: #000000\">                        </span><span style=\"color: #808000; text-decoration-color: #808000\">grounding_chunk_indices</span><span style=\"color: #000000; text-decoration-color: #000000\">=</span><span style=\"color: #000000; text-decoration-color: #000000; font-weight: bold\">[</span><span style=\"color: #008080; text-decoration-color: #008080; font-weight: bold\">1</span><span style=\"color: #000000; text-decoration-color: #000000; font-weight: bold\">]</span><span style=\"color: #000000; text-decoration-color: #000000\">,</span>\n",
              "<span style=\"color: #000000; text-decoration-color: #000000\">                        </span><span style=\"color: #808000; text-decoration-color: #808000\">segment</span><span style=\"color: #000000; text-decoration-color: #000000\">=</span><span style=\"color: #800080; text-decoration-color: #800080; font-weight: bold\">Segment</span><span style=\"color: #000000; text-decoration-color: #000000; font-weight: bold\">(</span>\n",
              "<span style=\"color: #000000; text-decoration-color: #000000\">                            </span><span style=\"color: #808000; text-decoration-color: #808000\">end_index</span><span style=\"color: #000000; text-decoration-color: #000000\">=</span><span style=\"color: #008080; text-decoration-color: #008080; font-weight: bold\">175</span><span style=\"color: #000000; text-decoration-color: #000000\">,</span>\n",
              "<span style=\"color: #000000; text-decoration-color: #000000\">                            </span><span style=\"color: #808000; text-decoration-color: #808000\">part_index</span><span style=\"color: #000000; text-decoration-color: #000000\">=</span><span style=\"color: #800080; text-decoration-color: #800080; font-style: italic\">None</span><span style=\"color: #000000; text-decoration-color: #000000\">,</span>\n",
              "<span style=\"color: #000000; text-decoration-color: #000000\">                            </span><span style=\"color: #808000; text-decoration-color: #808000\">start_index</span><span style=\"color: #000000; text-decoration-color: #000000\">=</span><span style=\"color: #008080; text-decoration-color: #008080; font-weight: bold\">98</span><span style=\"color: #000000; text-decoration-color: #000000\">,</span>\n",
              "<span style=\"color: #000000; text-decoration-color: #000000\">                            </span><span style=\"color: #808000; text-decoration-color: #808000\">text</span><span style=\"color: #000000; text-decoration-color: #000000\">=</span><span style=\"color: #008000; text-decoration-color: #008000\">'This can be done for both current and past date Passenger Name Records (PNR).'</span>\n",
              "<span style=\"color: #000000; text-decoration-color: #000000\">                        </span><span style=\"color: #000000; text-decoration-color: #000000; font-weight: bold\">)</span>\n",
              "<span style=\"color: #000000; text-decoration-color: #000000\">                    </span><span style=\"color: #000000; text-decoration-color: #000000; font-weight: bold\">)</span><span style=\"color: #000000; text-decoration-color: #000000\">,</span>\n",
              "<span style=\"color: #000000; text-decoration-color: #000000\">                    </span><span style=\"color: #800080; text-decoration-color: #800080; font-weight: bold\">GroundingSupport</span><span style=\"color: #000000; text-decoration-color: #000000; font-weight: bold\">(</span>\n",
              "<span style=\"color: #000000; text-decoration-color: #000000\">                        </span><span style=\"color: #808000; text-decoration-color: #808000\">confidence_scores</span><span style=\"color: #000000; text-decoration-color: #000000\">=</span><span style=\"color: #000000; text-decoration-color: #000000; font-weight: bold\">[</span><span style=\"color: #008080; text-decoration-color: #008080; font-weight: bold\">0.9019051</span><span style=\"color: #000000; text-decoration-color: #000000; font-weight: bold\">]</span><span style=\"color: #000000; text-decoration-color: #000000\">,</span>\n",
              "<span style=\"color: #000000; text-decoration-color: #000000\">                        </span><span style=\"color: #808000; text-decoration-color: #808000\">grounding_chunk_indices</span><span style=\"color: #000000; text-decoration-color: #000000\">=</span><span style=\"color: #000000; text-decoration-color: #000000; font-weight: bold\">[</span><span style=\"color: #008080; text-decoration-color: #008080; font-weight: bold\">1</span><span style=\"color: #000000; text-decoration-color: #000000; font-weight: bold\">]</span><span style=\"color: #000000; text-decoration-color: #000000\">,</span>\n",
              "<span style=\"color: #000000; text-decoration-color: #000000\">                        </span><span style=\"color: #808000; text-decoration-color: #808000\">segment</span><span style=\"color: #000000; text-decoration-color: #000000\">=</span><span style=\"color: #800080; text-decoration-color: #800080; font-weight: bold\">Segment</span><span style=\"color: #000000; text-decoration-color: #000000; font-weight: bold\">(</span>\n",
              "<span style=\"color: #000000; text-decoration-color: #000000\">                            </span><span style=\"color: #808000; text-decoration-color: #808000\">end_index</span><span style=\"color: #000000; text-decoration-color: #000000\">=</span><span style=\"color: #008080; text-decoration-color: #008080; font-weight: bold\">286</span><span style=\"color: #000000; text-decoration-color: #000000\">,</span>\n",
              "<span style=\"color: #000000; text-decoration-color: #000000\">                            </span><span style=\"color: #808000; text-decoration-color: #808000\">part_index</span><span style=\"color: #000000; text-decoration-color: #000000\">=</span><span style=\"color: #800080; text-decoration-color: #800080; font-style: italic\">None</span><span style=\"color: #000000; text-decoration-color: #000000\">,</span>\n",
              "<span style=\"color: #000000; text-decoration-color: #000000\">                            </span><span style=\"color: #808000; text-decoration-color: #808000\">start_index</span><span style=\"color: #000000; text-decoration-color: #000000\">=</span><span style=\"color: #008080; text-decoration-color: #008080; font-weight: bold\">240</span><span style=\"color: #000000; text-decoration-color: #000000\">,</span>\n",
              "<span style=\"color: #000000; text-decoration-color: #000000\">                            </span><span style=\"color: #808000; text-decoration-color: #808000\">text</span><span style=\"color: #000000; text-decoration-color: #000000\">=</span><span style=\"color: #008000; text-decoration-color: #008000\">'3.  Enter WETR\\\\*(LINE NUMBER) (e.g., WETR\\\\*2).'</span>\n",
              "<span style=\"color: #000000; text-decoration-color: #000000\">                        </span><span style=\"color: #000000; text-decoration-color: #000000; font-weight: bold\">)</span>\n",
              "<span style=\"color: #000000; text-decoration-color: #000000\">                    </span><span style=\"color: #000000; text-decoration-color: #000000; font-weight: bold\">)</span><span style=\"color: #000000; text-decoration-color: #000000\">,</span>\n",
              "<span style=\"color: #000000; text-decoration-color: #000000\">                    </span><span style=\"color: #800080; text-decoration-color: #800080; font-weight: bold\">GroundingSupport</span><span style=\"color: #000000; text-decoration-color: #000000; font-weight: bold\">(</span>\n",
              "<span style=\"color: #000000; text-decoration-color: #000000\">                        </span><span style=\"color: #808000; text-decoration-color: #808000\">confidence_scores</span><span style=\"color: #000000; text-decoration-color: #000000\">=</span><span style=\"color: #000000; text-decoration-color: #000000; font-weight: bold\">[</span><span style=\"color: #008080; text-decoration-color: #008080; font-weight: bold\">0.98741883</span><span style=\"color: #000000; text-decoration-color: #000000; font-weight: bold\">]</span><span style=\"color: #000000; text-decoration-color: #000000\">,</span>\n",
              "<span style=\"color: #000000; text-decoration-color: #000000\">                        </span><span style=\"color: #808000; text-decoration-color: #808000\">grounding_chunk_indices</span><span style=\"color: #000000; text-decoration-color: #000000\">=</span><span style=\"color: #000000; text-decoration-color: #000000; font-weight: bold\">[</span><span style=\"color: #008080; text-decoration-color: #008080; font-weight: bold\">0</span><span style=\"color: #000000; text-decoration-color: #000000; font-weight: bold\">]</span><span style=\"color: #000000; text-decoration-color: #000000\">,</span>\n",
              "<span style=\"color: #000000; text-decoration-color: #000000\">                        </span><span style=\"color: #808000; text-decoration-color: #808000\">segment</span><span style=\"color: #000000; text-decoration-color: #000000\">=</span><span style=\"color: #800080; text-decoration-color: #800080; font-weight: bold\">Segment</span><span style=\"color: #000000; text-decoration-color: #000000; font-weight: bold\">(</span>\n",
              "<span style=\"color: #000000; text-decoration-color: #000000\">                            </span><span style=\"color: #808000; text-decoration-color: #808000\">end_index</span><span style=\"color: #000000; text-decoration-color: #000000\">=</span><span style=\"color: #008080; text-decoration-color: #008080; font-weight: bold\">355</span><span style=\"color: #000000; text-decoration-color: #000000\">,</span>\n",
              "<span style=\"color: #000000; text-decoration-color: #000000\">                            </span><span style=\"color: #808000; text-decoration-color: #808000\">part_index</span><span style=\"color: #000000; text-decoration-color: #000000\">=</span><span style=\"color: #800080; text-decoration-color: #800080; font-style: italic\">None</span><span style=\"color: #000000; text-decoration-color: #000000\">,</span>\n",
              "<span style=\"color: #000000; text-decoration-color: #000000\">                            </span><span style=\"color: #808000; text-decoration-color: #808000\">start_index</span><span style=\"color: #000000; text-decoration-color: #000000\">=</span><span style=\"color: #008080; text-decoration-color: #008080; font-weight: bold\">288</span><span style=\"color: #000000; text-decoration-color: #000000\">,</span>\n",
              "<span style=\"color: #000000; text-decoration-color: #000000\">                            </span><span style=\"color: #808000; text-decoration-color: #808000\">text</span><span style=\"color: #000000; text-decoration-color: #000000\">=</span><span style=\"color: #008000; text-decoration-color: #008000\">'After refunding a ticket in GDS, you can check the refunded amount.'</span>\n",
              "<span style=\"color: #000000; text-decoration-color: #000000\">                        </span><span style=\"color: #000000; text-decoration-color: #000000; font-weight: bold\">)</span>\n",
              "<span style=\"color: #000000; text-decoration-color: #000000\">                    </span><span style=\"color: #000000; text-decoration-color: #000000; font-weight: bold\">)</span><span style=\"color: #000000; text-decoration-color: #000000\">,</span>\n",
              "<span style=\"color: #000000; text-decoration-color: #000000\">                    </span><span style=\"color: #800080; text-decoration-color: #800080; font-weight: bold\">GroundingSupport</span><span style=\"color: #000000; text-decoration-color: #000000; font-weight: bold\">(</span>\n",
              "<span style=\"color: #000000; text-decoration-color: #000000\">                        </span><span style=\"color: #808000; text-decoration-color: #808000\">confidence_scores</span><span style=\"color: #000000; text-decoration-color: #000000\">=</span><span style=\"color: #000000; text-decoration-color: #000000; font-weight: bold\">[</span><span style=\"color: #008080; text-decoration-color: #008080; font-weight: bold\">0.9017638</span><span style=\"color: #000000; text-decoration-color: #000000; font-weight: bold\">]</span><span style=\"color: #000000; text-decoration-color: #000000\">,</span>\n",
              "<span style=\"color: #000000; text-decoration-color: #000000\">                        </span><span style=\"color: #808000; text-decoration-color: #808000\">grounding_chunk_indices</span><span style=\"color: #000000; text-decoration-color: #000000\">=</span><span style=\"color: #000000; text-decoration-color: #000000; font-weight: bold\">[</span><span style=\"color: #008080; text-decoration-color: #008080; font-weight: bold\">0</span><span style=\"color: #000000; text-decoration-color: #000000; font-weight: bold\">]</span><span style=\"color: #000000; text-decoration-color: #000000\">,</span>\n",
              "<span style=\"color: #000000; text-decoration-color: #000000\">                        </span><span style=\"color: #808000; text-decoration-color: #808000\">segment</span><span style=\"color: #000000; text-decoration-color: #000000\">=</span><span style=\"color: #800080; text-decoration-color: #800080; font-weight: bold\">Segment</span><span style=\"color: #000000; text-decoration-color: #000000; font-weight: bold\">(</span>\n",
              "<span style=\"color: #000000; text-decoration-color: #000000\">                            </span><span style=\"color: #808000; text-decoration-color: #808000\">end_index</span><span style=\"color: #000000; text-decoration-color: #000000\">=</span><span style=\"color: #008080; text-decoration-color: #008080; font-weight: bold\">507</span><span style=\"color: #000000; text-decoration-color: #000000\">,</span>\n",
              "<span style=\"color: #000000; text-decoration-color: #000000\">                            </span><span style=\"color: #808000; text-decoration-color: #808000\">part_index</span><span style=\"color: #000000; text-decoration-color: #000000\">=</span><span style=\"color: #800080; text-decoration-color: #800080; font-style: italic\">None</span><span style=\"color: #000000; text-decoration-color: #000000\">,</span>\n",
              "<span style=\"color: #000000; text-decoration-color: #000000\">                            </span><span style=\"color: #808000; text-decoration-color: #808000\">start_index</span><span style=\"color: #000000; text-decoration-color: #000000\">=</span><span style=\"color: #008080; text-decoration-color: #008080; font-weight: bold\">356</span><span style=\"color: #000000; text-decoration-color: #000000\">,</span>\n",
              "<span style=\"color: #000000; text-decoration-color: #000000\">                            </span><span style=\"color: #808000; text-decoration-color: #808000\">text</span><span style=\"color: #000000; text-decoration-color: #000000\">=</span><span style=\"color: #008000; text-decoration-color: #008000\">'Once processed, the system will display: ETR REFUND MESSAGE PROCESSED REA ISSUE </span>\n",
              "<span style=\"color: #008000; text-decoration-color: #008000\">N/A. Ensure you are in the correct PCC to pull the correct information.'</span>\n",
              "<span style=\"color: #000000; text-decoration-color: #000000\">                        </span><span style=\"color: #000000; text-decoration-color: #000000; font-weight: bold\">)</span>\n",
              "<span style=\"color: #000000; text-decoration-color: #000000\">                    </span><span style=\"color: #000000; text-decoration-color: #000000; font-weight: bold\">)</span>\n",
              "<span style=\"color: #000000; text-decoration-color: #000000\">                </span><span style=\"color: #000000; text-decoration-color: #000000; font-weight: bold\">]</span><span style=\"color: #000000; text-decoration-color: #000000\">,</span>\n",
              "<span style=\"color: #000000; text-decoration-color: #000000\">                </span><span style=\"color: #808000; text-decoration-color: #808000\">retrieval_metadata</span><span style=\"color: #000000; text-decoration-color: #000000\">=</span><span style=\"color: #800080; text-decoration-color: #800080; font-style: italic\">None</span><span style=\"color: #000000; text-decoration-color: #000000\">,</span>\n",
              "<span style=\"color: #000000; text-decoration-color: #000000\">                </span><span style=\"color: #808000; text-decoration-color: #808000\">retrieval_queries</span><span style=\"color: #000000; text-decoration-color: #000000\">=</span><span style=\"color: #000000; text-decoration-color: #000000; font-weight: bold\">[</span><span style=\"color: #008000; text-decoration-color: #008000\">'How to do full refund for unused ticket?'</span><span style=\"color: #000000; text-decoration-color: #000000; font-weight: bold\">]</span><span style=\"color: #000000; text-decoration-color: #000000\">,</span>\n",
              "<span style=\"color: #000000; text-decoration-color: #000000\">                </span><span style=\"color: #808000; text-decoration-color: #808000\">search_entry_point</span><span style=\"color: #000000; text-decoration-color: #000000\">=</span><span style=\"color: #800080; text-decoration-color: #800080; font-style: italic\">None</span><span style=\"color: #000000; text-decoration-color: #000000\">,</span>\n",
              "<span style=\"color: #000000; text-decoration-color: #000000\">                </span><span style=\"color: #808000; text-decoration-color: #808000\">web_search_queries</span><span style=\"color: #000000; text-decoration-color: #000000\">=</span><span style=\"color: #800080; text-decoration-color: #800080; font-style: italic\">None</span>\n",
              "<span style=\"color: #000000; text-decoration-color: #000000\">            </span><span style=\"color: #000000; text-decoration-color: #000000; font-weight: bold\">)</span><span style=\"color: #000000; text-decoration-color: #000000\">,</span>\n",
              "<span style=\"color: #000000; text-decoration-color: #000000\">            </span><span style=\"color: #808000; text-decoration-color: #808000\">index</span><span style=\"color: #000000; text-decoration-color: #000000\">=</span><span style=\"color: #800080; text-decoration-color: #800080; font-style: italic\">None</span><span style=\"color: #000000; text-decoration-color: #000000\">,</span>\n",
              "<span style=\"color: #000000; text-decoration-color: #000000\">            </span><span style=\"color: #808000; text-decoration-color: #808000\">logprobs_result</span><span style=\"color: #000000; text-decoration-color: #000000\">=</span><span style=\"color: #800080; text-decoration-color: #800080; font-style: italic\">None</span><span style=\"color: #000000; text-decoration-color: #000000\">,</span>\n",
              "<span style=\"color: #000000; text-decoration-color: #000000\">            </span><span style=\"color: #808000; text-decoration-color: #808000\">safety_ratings</span><span style=\"color: #000000; text-decoration-color: #000000\">=</span><span style=\"color: #800080; text-decoration-color: #800080; font-style: italic\">None</span>\n",
              "<span style=\"color: #000000; text-decoration-color: #000000\">        </span><span style=\"color: #000000; text-decoration-color: #000000; font-weight: bold\">)</span>\n",
              "<span style=\"color: #000000; text-decoration-color: #000000\">    </span><span style=\"color: #000000; text-decoration-color: #000000; font-weight: bold\">]</span><span style=\"color: #000000; text-decoration-color: #000000\">,</span>\n",
              "<span style=\"color: #000000; text-decoration-color: #000000\">    </span><span style=\"color: #808000; text-decoration-color: #808000\">create_time</span><span style=\"color: #000000; text-decoration-color: #000000\">=</span><span style=\"color: #800080; text-decoration-color: #800080; font-weight: bold\">datetime</span><span style=\"color: #800080; text-decoration-color: #800080; font-weight: bold\">.datetime</span><span style=\"color: #000000; text-decoration-color: #000000; font-weight: bold\">(</span><span style=\"color: #008080; text-decoration-color: #008080; font-weight: bold\">2025</span><span style=\"color: #000000; text-decoration-color: #000000\">, </span><span style=\"color: #008080; text-decoration-color: #008080; font-weight: bold\">4</span><span style=\"color: #000000; text-decoration-color: #000000\">, </span><span style=\"color: #008080; text-decoration-color: #008080; font-weight: bold\">11</span><span style=\"color: #000000; text-decoration-color: #000000\">, </span><span style=\"color: #008080; text-decoration-color: #008080; font-weight: bold\">5</span><span style=\"color: #000000; text-decoration-color: #000000\">, </span><span style=\"color: #008080; text-decoration-color: #008080; font-weight: bold\">44</span><span style=\"color: #000000; text-decoration-color: #000000\">, </span><span style=\"color: #008080; text-decoration-color: #008080; font-weight: bold\">9</span><span style=\"color: #000000; text-decoration-color: #000000\">, </span><span style=\"color: #008080; text-decoration-color: #008080; font-weight: bold\">934099</span><span style=\"color: #000000; text-decoration-color: #000000\">, </span><span style=\"color: #808000; text-decoration-color: #808000\">tzinfo</span><span style=\"color: #000000; text-decoration-color: #000000\">=</span><span style=\"color: #800080; text-decoration-color: #800080; font-weight: bold\">TzInfo</span><span style=\"color: #000000; text-decoration-color: #000000; font-weight: bold\">(</span><span style=\"color: #000000; text-decoration-color: #000000\">UTC</span><span style=\"color: #000000; text-decoration-color: #000000; font-weight: bold\">))</span><span style=\"color: #000000; text-decoration-color: #000000\">,</span>\n",
              "<span style=\"color: #000000; text-decoration-color: #000000\">    </span><span style=\"color: #808000; text-decoration-color: #808000\">response_id</span><span style=\"color: #000000; text-decoration-color: #000000\">=</span><span style=\"color: #008000; text-decoration-color: #008000\">'Kaz4Z9OBOYi5qsMP1c_LmA0'</span><span style=\"color: #000000; text-decoration-color: #000000\">,</span>\n",
              "<span style=\"color: #000000; text-decoration-color: #000000\">    </span><span style=\"color: #808000; text-decoration-color: #808000\">model_version</span><span style=\"color: #000000; text-decoration-color: #000000\">=</span><span style=\"color: #008000; text-decoration-color: #008000\">'gemini-2.0-flash-001'</span><span style=\"color: #000000; text-decoration-color: #000000\">,</span>\n",
              "<span style=\"color: #000000; text-decoration-color: #000000\">    </span><span style=\"color: #808000; text-decoration-color: #808000\">prompt_feedback</span><span style=\"color: #000000; text-decoration-color: #000000\">=</span><span style=\"color: #800080; text-decoration-color: #800080; font-style: italic\">None</span><span style=\"color: #000000; text-decoration-color: #000000\">,</span>\n",
              "<span style=\"color: #000000; text-decoration-color: #000000\">    </span><span style=\"color: #808000; text-decoration-color: #808000\">usage_metadata</span><span style=\"color: #000000; text-decoration-color: #000000\">=</span><span style=\"color: #800080; text-decoration-color: #800080; font-weight: bold\">GenerateContentResponseUsageMetadata</span><span style=\"color: #000000; text-decoration-color: #000000; font-weight: bold\">(</span>\n",
              "<span style=\"color: #000000; text-decoration-color: #000000\">        </span><span style=\"color: #808000; text-decoration-color: #808000\">cache_tokens_details</span><span style=\"color: #000000; text-decoration-color: #000000\">=</span><span style=\"color: #800080; text-decoration-color: #800080; font-style: italic\">None</span><span style=\"color: #000000; text-decoration-color: #000000\">,</span>\n",
              "<span style=\"color: #000000; text-decoration-color: #000000\">        </span><span style=\"color: #808000; text-decoration-color: #808000\">cached_content_token_count</span><span style=\"color: #000000; text-decoration-color: #000000\">=</span><span style=\"color: #800080; text-decoration-color: #800080; font-style: italic\">None</span><span style=\"color: #000000; text-decoration-color: #000000\">,</span>\n",
              "<span style=\"color: #000000; text-decoration-color: #000000\">        </span><span style=\"color: #808000; text-decoration-color: #808000\">candidates_token_count</span><span style=\"color: #000000; text-decoration-color: #000000\">=</span><span style=\"color: #008080; text-decoration-color: #008080; font-weight: bold\">135</span><span style=\"color: #000000; text-decoration-color: #000000\">,</span>\n",
              "<span style=\"color: #000000; text-decoration-color: #000000\">        </span><span style=\"color: #808000; text-decoration-color: #808000\">candidates_tokens_details</span><span style=\"color: #000000; text-decoration-color: #000000\">=</span><span style=\"color: #000000; text-decoration-color: #000000; font-weight: bold\">[</span><span style=\"color: #800080; text-decoration-color: #800080; font-weight: bold\">ModalityTokenCount</span><span style=\"color: #000000; text-decoration-color: #000000; font-weight: bold\">(</span><span style=\"color: #808000; text-decoration-color: #808000\">modality</span><span style=\"color: #000000; text-decoration-color: #000000\">=&lt;MediaModality.TEXT: </span><span style=\"color: #008000; text-decoration-color: #008000\">'TEXT'</span><span style=\"color: #000000; text-decoration-color: #000000\">&gt;, </span><span style=\"color: #808000; text-decoration-color: #808000\">token_count</span><span style=\"color: #000000; text-decoration-color: #000000\">=</span><span style=\"color: #008080; text-decoration-color: #008080; font-weight: bold\">135</span><span style=\"color: #000000; text-decoration-color: #000000; font-weight: bold\">)]</span><span style=\"color: #000000; text-decoration-color: #000000\">,</span>\n",
              "<span style=\"color: #000000; text-decoration-color: #000000\">        </span><span style=\"color: #808000; text-decoration-color: #808000\">prompt_token_count</span><span style=\"color: #000000; text-decoration-color: #000000\">=</span><span style=\"color: #008080; text-decoration-color: #008080; font-weight: bold\">9</span><span style=\"color: #000000; text-decoration-color: #000000\">,</span>\n",
              "<span style=\"color: #000000; text-decoration-color: #000000\">        </span><span style=\"color: #808000; text-decoration-color: #808000\">prompt_tokens_details</span><span style=\"color: #000000; text-decoration-color: #000000\">=</span><span style=\"color: #000000; text-decoration-color: #000000; font-weight: bold\">[</span><span style=\"color: #800080; text-decoration-color: #800080; font-weight: bold\">ModalityTokenCount</span><span style=\"color: #000000; text-decoration-color: #000000; font-weight: bold\">(</span><span style=\"color: #808000; text-decoration-color: #808000\">modality</span><span style=\"color: #000000; text-decoration-color: #000000\">=&lt;MediaModality.TEXT: </span><span style=\"color: #008000; text-decoration-color: #008000\">'TEXT'</span><span style=\"color: #000000; text-decoration-color: #000000\">&gt;, </span><span style=\"color: #808000; text-decoration-color: #808000\">token_count</span><span style=\"color: #000000; text-decoration-color: #000000\">=</span><span style=\"color: #008080; text-decoration-color: #008080; font-weight: bold\">9</span><span style=\"color: #000000; text-decoration-color: #000000; font-weight: bold\">)]</span><span style=\"color: #000000; text-decoration-color: #000000\">,</span>\n",
              "<span style=\"color: #000000; text-decoration-color: #000000\">        </span><span style=\"color: #808000; text-decoration-color: #808000\">thoughts_token_count</span><span style=\"color: #000000; text-decoration-color: #000000\">=</span><span style=\"color: #800080; text-decoration-color: #800080; font-style: italic\">None</span><span style=\"color: #000000; text-decoration-color: #000000\">,</span>\n",
              "<span style=\"color: #000000; text-decoration-color: #000000\">        </span><span style=\"color: #808000; text-decoration-color: #808000\">tool_use_prompt_token_count</span><span style=\"color: #000000; text-decoration-color: #000000\">=</span><span style=\"color: #800080; text-decoration-color: #800080; font-style: italic\">None</span><span style=\"color: #000000; text-decoration-color: #000000\">,</span>\n",
              "<span style=\"color: #000000; text-decoration-color: #000000\">        </span><span style=\"color: #808000; text-decoration-color: #808000\">tool_use_prompt_tokens_details</span><span style=\"color: #000000; text-decoration-color: #000000\">=</span><span style=\"color: #800080; text-decoration-color: #800080; font-style: italic\">None</span><span style=\"color: #000000; text-decoration-color: #000000\">,</span>\n",
              "<span style=\"color: #000000; text-decoration-color: #000000\">        </span><span style=\"color: #808000; text-decoration-color: #808000\">total_token_count</span><span style=\"color: #000000; text-decoration-color: #000000\">=</span><span style=\"color: #008080; text-decoration-color: #008080; font-weight: bold\">144</span><span style=\"color: #000000; text-decoration-color: #000000\">,</span>\n",
              "<span style=\"color: #000000; text-decoration-color: #000000\">        </span><span style=\"color: #808000; text-decoration-color: #808000\">traffic_type</span><span style=\"color: #000000; text-decoration-color: #000000\">=&lt;TrafficType.ON_DEMAND: </span><span style=\"color: #008000; text-decoration-color: #008000\">'ON_DEMAND'</span><span style=\"font-weight: bold\">&gt;</span>\n",
              "    <span style=\"font-weight: bold\">)</span>,\n",
              "    <span style=\"color: #808000; text-decoration-color: #808000\">automatic_function_calling_history</span>=<span style=\"font-weight: bold\">[]</span>,\n",
              "    <span style=\"color: #808000; text-decoration-color: #808000\">parsed</span>=<span style=\"color: #800080; text-decoration-color: #800080; font-style: italic\">None</span>\n",
              "<span style=\"font-weight: bold\">)</span>\n",
              "</pre>\n"
            ],
            "text/plain": [
              "\u001b[1;35mGenerateContentResponse\u001b[0m\u001b[1m(\u001b[0m\n",
              "    \u001b[33mcandidates\u001b[0m=\u001b[1m[\u001b[0m\n",
              "        \u001b[1;35mCandidate\u001b[0m\u001b[1m(\u001b[0m\n",
              "            \u001b[33mcontent\u001b[0m=\u001b[1;35mContent\u001b[0m\u001b[1m(\u001b[0m\n",
              "                \u001b[33mparts\u001b[0m=\u001b[1m[\u001b[0m\n",
              "                    \u001b[1;35mPart\u001b[0m\u001b[1m(\u001b[0m\n",
              "                        \u001b[33mvideo_metadata\u001b[0m=\u001b[3;35mNone\u001b[0m,\n",
              "                        \u001b[33mthought\u001b[0m=\u001b[3;35mNone\u001b[0m,\n",
              "                        \u001b[33mcode_execution_result\u001b[0m=\u001b[3;35mNone\u001b[0m,\n",
              "                        \u001b[33mexecutable_code\u001b[0m=\u001b[3;35mNone\u001b[0m,\n",
              "                        \u001b[33mfile_data\u001b[0m=\u001b[3;35mNone\u001b[0m,\n",
              "                        \u001b[33mfunction_call\u001b[0m=\u001b[3;35mNone\u001b[0m,\n",
              "                        \u001b[33mfunction_response\u001b[0m=\u001b[3;35mNone\u001b[0m,\n",
              "                        \u001b[33minline_data\u001b[0m=\u001b[3;35mNone\u001b[0m,\n",
              "                        \u001b[33mtext\u001b[0m=\u001b[32m'In Sabre, you can refund an electronic ticket \u001b[0m\u001b[32m(\u001b[0m\u001b[32mETR\u001b[0m\u001b[32m)\u001b[0m\u001b[32m through the system without manual\u001b[0m\n",
              "\u001b[32mprocessing. This can be done for both current and past date Passenger Name Records \u001b[0m\u001b[32m(\u001b[0m\u001b[32mPNR\u001b[0m\u001b[32m)\u001b[0m\u001b[32m.\\n\\nTo refund a current \u001b[0m\n",
              "\u001b[32mPNR:\\n\\n1.  Retrieve the PNR.\\n2.  Enter \\\\*T.\\n3.  Enter WETR\\\\*\u001b[0m\u001b[32m(\u001b[0m\u001b[32mLINE NUMBER\u001b[0m\u001b[32m)\u001b[0m\u001b[32m \u001b[0m\u001b[32m(\u001b[0m\u001b[32me.g., WETR\\\\*2\u001b[0m\u001b[32m)\u001b[0m\u001b[32m.\\n\\nAfter refunding\u001b[0m\n",
              "\u001b[32ma ticket in GDS, you can check the refunded amount. Once processed, the system will display: ETR REFUND MESSAGE \u001b[0m\n",
              "\u001b[32mPROCESSED REA ISSUE N/A. Ensure you are in the correct PCC to pull the correct information.\\n'\u001b[0m\n",
              "                    \u001b[1m)\u001b[0m\n",
              "                \u001b[1m]\u001b[0m,\n",
              "                \u001b[33mrole\u001b[0m=\u001b[32m'model'\u001b[0m\n",
              "            \u001b[1m)\u001b[0m,\n",
              "            \u001b[33mcitation_metadata\u001b[0m=\u001b[3;35mNone\u001b[0m,\n",
              "            \u001b[33mfinish_message\u001b[0m=\u001b[3;35mNone\u001b[0m,\n",
              "            \u001b[33mtoken_count\u001b[0m=\u001b[3;35mNone\u001b[0m,\n",
              "            \u001b[33mfinish_reason\u001b[0m=\u001b[1m<\u001b[0m\u001b[1;95mFinishReason.STOP:\u001b[0m\u001b[39m \u001b[0m\u001b[32m'STOP'\u001b[0m\u001b[39m>,\u001b[0m\n",
              "\u001b[39m            \u001b[0m\u001b[33mavg_logprobs\u001b[0m\u001b[39m=\u001b[0m\u001b[1;36m-0.13706814801251446\u001b[0m\u001b[39m,\u001b[0m\n",
              "\u001b[39m            \u001b[0m\u001b[33mgrounding_metadata\u001b[0m\u001b[39m=\u001b[0m\u001b[1;35mGroundingMetadata\u001b[0m\u001b[1;39m(\u001b[0m\n",
              "\u001b[39m                \u001b[0m\u001b[33mgrounding_chunks\u001b[0m\u001b[39m=\u001b[0m\u001b[1;39m[\u001b[0m\n",
              "\u001b[39m                    \u001b[0m\u001b[1;35mGroundingChunk\u001b[0m\u001b[1;39m(\u001b[0m\n",
              "\u001b[39m                        \u001b[0m\u001b[33mretrieved_context\u001b[0m\u001b[39m=\u001b[0m\u001b[1;35mGroundingChunkRetrievedContext\u001b[0m\u001b[1;39m(\u001b[0m\n",
              "\u001b[39m                            \u001b[0m\u001b[33mtext\u001b[0m\u001b[39m=\u001b[0m\u001b[32m'Once you do, the following displays: ETR REFUND MESSAGE PROCESSED REA ISSUE N/A \u001b[0m\n",
              "\u001b[32mCheck refunded amount There are several ways to check the refund amount once the ticket is refunded in GDS, ensure \u001b[0m\n",
              "\u001b[32myou are in the correct PCC to be able to pull out the correct information.'\u001b[0m\u001b[39m,\u001b[0m\n",
              "\u001b[39m                            \u001b[0m\u001b[33mtitle\u001b[0m\u001b[39m=\u001b[0m\u001b[32m'\u001b[0m\u001b[32m[\u001b[0m\u001b[32mINTERNAL\u001b[0m\u001b[32m]\u001b[0m\u001b[32m Sabre - Manual Refund Fully Unused Ticket - Flight Ops Knowledge Base\u001b[0m\n",
              "\u001b[32m- Confluence'\u001b[0m\u001b[39m,\u001b[0m\n",
              "\u001b[39m                            \u001b[0m\u001b[33muri\u001b[0m\u001b[39m=\u001b[0m\u001b[32m'gs://2025-traveloka-gds/FOD-\u001b[0m\u001b[32m[\u001b[0m\u001b[32mINTERNAL\u001b[0m\u001b[32m]\u001b[0m\u001b[32m Sabre - Manual Refund Fully Unused \u001b[0m\n",
              "\u001b[32mTicket-040325-042757.pdf'\u001b[0m\n",
              "\u001b[39m                        \u001b[0m\u001b[1;39m)\u001b[0m\u001b[39m,\u001b[0m\n",
              "\u001b[39m                        \u001b[0m\u001b[33mweb\u001b[0m\u001b[39m=\u001b[0m\u001b[3;35mNone\u001b[0m\n",
              "\u001b[39m                    \u001b[0m\u001b[1;39m)\u001b[0m\u001b[39m,\u001b[0m\n",
              "\u001b[39m                    \u001b[0m\u001b[1;35mGroundingChunk\u001b[0m\u001b[1;39m(\u001b[0m\n",
              "\u001b[39m                        \u001b[0m\u001b[33mretrieved_context\u001b[0m\u001b[39m=\u001b[0m\u001b[1;35mGroundingChunkRetrievedContext\u001b[0m\u001b[1;39m(\u001b[0m\n",
              "\u001b[39m                            \u001b[0m\u001b[33mtext\u001b[0m\u001b[39m=\u001b[0m\u001b[32m'ETR REFUND Refund untuk Electronic Ticket dapat dilakukan melalui system Abacus, \u001b[0m\n",
              "\u001b[32mtidak perlu melakukan refund secara manual. Refund dapat dilakukan dengan 2 cara : a. Current PNR b. Past Date PNR \u001b[0m\n",
              "\u001b[32mStep – step untuk Current PNR 1. Retrieve PNR 2. *T 3. WETR*\u001b[0m\u001b[32m(\u001b[0m\u001b[32mLINE NUMBER\u001b[0m\u001b[32m)\u001b[0m\u001b[32m ex. WETR*2 4.'\u001b[0m\u001b[39m,\u001b[0m\n",
              "\u001b[39m                            \u001b[0m\u001b[33mtitle\u001b[0m\u001b[39m=\u001b[0m\u001b[32m'Microsoft Word - Electronic Ticket - Sabre Fares & Ticketing Guide'\u001b[0m\u001b[39m,\u001b[0m\n",
              "\u001b[39m                            \u001b[0m\u001b[33muri\u001b[0m\u001b[39m=\u001b[0m\u001b[32m'gs://2025-traveloka-gds/Electronic Ticket - Sabre Fares & Ticketing Guide.pdf'\u001b[0m\n",
              "\u001b[39m                        \u001b[0m\u001b[1;39m)\u001b[0m\u001b[39m,\u001b[0m\n",
              "\u001b[39m                        \u001b[0m\u001b[33mweb\u001b[0m\u001b[39m=\u001b[0m\u001b[3;35mNone\u001b[0m\n",
              "\u001b[39m                    \u001b[0m\u001b[1;39m)\u001b[0m\u001b[39m,\u001b[0m\n",
              "\u001b[39m                    \u001b[0m\u001b[1;35mGroundingChunk\u001b[0m\u001b[1;39m(\u001b[0m\n",
              "\u001b[39m                        \u001b[0m\u001b[33mretrieved_context\u001b[0m\u001b[39m=\u001b[0m\u001b[1;35mGroundingChunkRetrievedContext\u001b[0m\u001b[1;39m(\u001b[0m\n",
              "\u001b[39m                            \u001b[0m\u001b[33mtext\u001b[0m\u001b[39m=\u001b[0m\u001b[32m'Some alpha codes represent individual categories, while others group rules \u001b[0m\n",
              "\u001b[32mtogether by topic. You can use any of the alpha codes together, up to a maximum of five alpha codes \u001b[0m\u001b[32m(\u001b[0m\u001b[32mnot counting \u001b[0m\n",
              "\u001b[32mthe IC code\u001b[0m\u001b[32m)\u001b[0m\u001b[32m, in a single entry.'\u001b[0m\u001b[39m,\u001b[0m\n",
              "\u001b[39m                            \u001b[0m\u001b[33mtitle\u001b[0m\u001b[39m=\u001b[0m\u001b[32m'How to Understand Fare Rule Categories'\u001b[0m\u001b[39m,\u001b[0m\n",
              "\u001b[39m                            \u001b[0m\u001b[33muri\u001b[0m\u001b[39m=\u001b[0m\u001b[32m'gs://2025-traveloka-gds/How to Understand Fare Rule Categories.pdf'\u001b[0m\n",
              "\u001b[39m                        \u001b[0m\u001b[1;39m)\u001b[0m\u001b[39m,\u001b[0m\n",
              "\u001b[39m                        \u001b[0m\u001b[33mweb\u001b[0m\u001b[39m=\u001b[0m\u001b[3;35mNone\u001b[0m\n",
              "\u001b[39m                    \u001b[0m\u001b[1;39m)\u001b[0m\u001b[39m,\u001b[0m\n",
              "\u001b[39m                    \u001b[0m\u001b[1;35mGroundingChunk\u001b[0m\u001b[1;39m(\u001b[0m\n",
              "\u001b[39m                        \u001b[0m\u001b[33mretrieved_context\u001b[0m\u001b[39m=\u001b[0m\u001b[1;35mGroundingChunkRetrievedContext\u001b[0m\u001b[1;39m(\u001b[0m\n",
              "\u001b[39m                            \u001b[0m\u001b[33mtext\u001b[0m\u001b[39m=\u001b[0m\u001b[32m'How long does Sabre hold the ticket image in the ticket image database?'\u001b[0m\u001b[39m,\u001b[0m\n",
              "\u001b[39m                            \u001b[0m\u001b[33mtitle\u001b[0m\u001b[39m=\u001b[0m\u001b[32m'Display the Database Ticket Image \u001b[0m\u001b[32m(\u001b[0m\u001b[32mWTDB*\u001b[0m\u001b[32m)\u001b[0m\u001b[32m'\u001b[0m\u001b[39m,\u001b[0m\n",
              "\u001b[39m                            \u001b[0m\u001b[33muri\u001b[0m\u001b[39m=\u001b[0m\u001b[32m'gs://2025-traveloka-gds/Display the Database Ticket Image \u001b[0m\u001b[32m(\u001b[0m\u001b[32mWTDB_\u001b[0m\u001b[32m)\u001b[0m\u001b[32m.pdf'\u001b[0m\n",
              "\u001b[39m                        \u001b[0m\u001b[1;39m)\u001b[0m\u001b[39m,\u001b[0m\n",
              "\u001b[39m                        \u001b[0m\u001b[33mweb\u001b[0m\u001b[39m=\u001b[0m\u001b[3;35mNone\u001b[0m\n",
              "\u001b[39m                    \u001b[0m\u001b[1;39m)\u001b[0m\u001b[39m,\u001b[0m\n",
              "\u001b[39m                    \u001b[0m\u001b[1;35mGroundingChunk\u001b[0m\u001b[1;39m(\u001b[0m\n",
              "\u001b[39m                        \u001b[0m\u001b[33mretrieved_context\u001b[0m\u001b[39m=\u001b[0m\u001b[1;35mGroundingChunkRetrievedContext\u001b[0m\u001b[1;39m(\u001b[0m\n",
              "\u001b[39m                            \u001b[0m\u001b[33mtext\u001b[0m\u001b[39m=\u001b[0m\u001b[32m'Cara menghapus remarks yaitu : 52¤ delete remarks di line ke 2 53-6¤ delete \u001b[0m\n",
              "\u001b[32mremarks di line ke 3 s/d 6 54,6,9¤ delete remarks di line ke 4, 6 dan 9.'\u001b[0m\u001b[39m,\u001b[0m\n",
              "\u001b[39m                            \u001b[0m\u001b[33mtitle\u001b[0m\u001b[39m=\u001b[0m\u001b[32m'Modul Basic Reservation -sabre- up to date_08JUL19'\u001b[0m\u001b[39m,\u001b[0m\n",
              "\u001b[39m                            \u001b[0m\u001b[33muri\u001b[0m\u001b[39m=\u001b[0m\u001b[32m'gs://2025-traveloka-gds/Modul Basic Reservation -sabre- up to date_08JUL19.pdf'\u001b[0m\n",
              "\u001b[39m                        \u001b[0m\u001b[1;39m)\u001b[0m\u001b[39m,\u001b[0m\n",
              "\u001b[39m                        \u001b[0m\u001b[33mweb\u001b[0m\u001b[39m=\u001b[0m\u001b[3;35mNone\u001b[0m\n",
              "\u001b[39m                    \u001b[0m\u001b[1;39m)\u001b[0m\n",
              "\u001b[39m                \u001b[0m\u001b[1;39m]\u001b[0m\u001b[39m,\u001b[0m\n",
              "\u001b[39m                \u001b[0m\u001b[33mgrounding_supports\u001b[0m\u001b[39m=\u001b[0m\u001b[1;39m[\u001b[0m\n",
              "\u001b[39m                    \u001b[0m\u001b[1;35mGroundingSupport\u001b[0m\u001b[1;39m(\u001b[0m\n",
              "\u001b[39m                        \u001b[0m\u001b[33mconfidence_scores\u001b[0m\u001b[39m=\u001b[0m\u001b[1;39m[\u001b[0m\u001b[1;36m0.6503382\u001b[0m\u001b[1;39m]\u001b[0m\u001b[39m,\u001b[0m\n",
              "\u001b[39m                        \u001b[0m\u001b[33mgrounding_chunk_indices\u001b[0m\u001b[39m=\u001b[0m\u001b[1;39m[\u001b[0m\u001b[1;36m1\u001b[0m\u001b[1;39m]\u001b[0m\u001b[39m,\u001b[0m\n",
              "\u001b[39m                        \u001b[0m\u001b[33msegment\u001b[0m\u001b[39m=\u001b[0m\u001b[1;35mSegment\u001b[0m\u001b[1;39m(\u001b[0m\n",
              "\u001b[39m                            \u001b[0m\u001b[33mend_index\u001b[0m\u001b[39m=\u001b[0m\u001b[1;36m175\u001b[0m\u001b[39m,\u001b[0m\n",
              "\u001b[39m                            \u001b[0m\u001b[33mpart_index\u001b[0m\u001b[39m=\u001b[0m\u001b[3;35mNone\u001b[0m\u001b[39m,\u001b[0m\n",
              "\u001b[39m                            \u001b[0m\u001b[33mstart_index\u001b[0m\u001b[39m=\u001b[0m\u001b[1;36m98\u001b[0m\u001b[39m,\u001b[0m\n",
              "\u001b[39m                            \u001b[0m\u001b[33mtext\u001b[0m\u001b[39m=\u001b[0m\u001b[32m'This can be done for both current and past date Passenger Name Records \u001b[0m\u001b[32m(\u001b[0m\u001b[32mPNR\u001b[0m\u001b[32m)\u001b[0m\u001b[32m.'\u001b[0m\n",
              "\u001b[39m                        \u001b[0m\u001b[1;39m)\u001b[0m\n",
              "\u001b[39m                    \u001b[0m\u001b[1;39m)\u001b[0m\u001b[39m,\u001b[0m\n",
              "\u001b[39m                    \u001b[0m\u001b[1;35mGroundingSupport\u001b[0m\u001b[1;39m(\u001b[0m\n",
              "\u001b[39m                        \u001b[0m\u001b[33mconfidence_scores\u001b[0m\u001b[39m=\u001b[0m\u001b[1;39m[\u001b[0m\u001b[1;36m0.9019051\u001b[0m\u001b[1;39m]\u001b[0m\u001b[39m,\u001b[0m\n",
              "\u001b[39m                        \u001b[0m\u001b[33mgrounding_chunk_indices\u001b[0m\u001b[39m=\u001b[0m\u001b[1;39m[\u001b[0m\u001b[1;36m1\u001b[0m\u001b[1;39m]\u001b[0m\u001b[39m,\u001b[0m\n",
              "\u001b[39m                        \u001b[0m\u001b[33msegment\u001b[0m\u001b[39m=\u001b[0m\u001b[1;35mSegment\u001b[0m\u001b[1;39m(\u001b[0m\n",
              "\u001b[39m                            \u001b[0m\u001b[33mend_index\u001b[0m\u001b[39m=\u001b[0m\u001b[1;36m286\u001b[0m\u001b[39m,\u001b[0m\n",
              "\u001b[39m                            \u001b[0m\u001b[33mpart_index\u001b[0m\u001b[39m=\u001b[0m\u001b[3;35mNone\u001b[0m\u001b[39m,\u001b[0m\n",
              "\u001b[39m                            \u001b[0m\u001b[33mstart_index\u001b[0m\u001b[39m=\u001b[0m\u001b[1;36m240\u001b[0m\u001b[39m,\u001b[0m\n",
              "\u001b[39m                            \u001b[0m\u001b[33mtext\u001b[0m\u001b[39m=\u001b[0m\u001b[32m'3.  Enter WETR\\\\*\u001b[0m\u001b[32m(\u001b[0m\u001b[32mLINE NUMBER\u001b[0m\u001b[32m)\u001b[0m\u001b[32m \u001b[0m\u001b[32m(\u001b[0m\u001b[32me.g., WETR\\\\*2\u001b[0m\u001b[32m)\u001b[0m\u001b[32m.'\u001b[0m\n",
              "\u001b[39m                        \u001b[0m\u001b[1;39m)\u001b[0m\n",
              "\u001b[39m                    \u001b[0m\u001b[1;39m)\u001b[0m\u001b[39m,\u001b[0m\n",
              "\u001b[39m                    \u001b[0m\u001b[1;35mGroundingSupport\u001b[0m\u001b[1;39m(\u001b[0m\n",
              "\u001b[39m                        \u001b[0m\u001b[33mconfidence_scores\u001b[0m\u001b[39m=\u001b[0m\u001b[1;39m[\u001b[0m\u001b[1;36m0.98741883\u001b[0m\u001b[1;39m]\u001b[0m\u001b[39m,\u001b[0m\n",
              "\u001b[39m                        \u001b[0m\u001b[33mgrounding_chunk_indices\u001b[0m\u001b[39m=\u001b[0m\u001b[1;39m[\u001b[0m\u001b[1;36m0\u001b[0m\u001b[1;39m]\u001b[0m\u001b[39m,\u001b[0m\n",
              "\u001b[39m                        \u001b[0m\u001b[33msegment\u001b[0m\u001b[39m=\u001b[0m\u001b[1;35mSegment\u001b[0m\u001b[1;39m(\u001b[0m\n",
              "\u001b[39m                            \u001b[0m\u001b[33mend_index\u001b[0m\u001b[39m=\u001b[0m\u001b[1;36m355\u001b[0m\u001b[39m,\u001b[0m\n",
              "\u001b[39m                            \u001b[0m\u001b[33mpart_index\u001b[0m\u001b[39m=\u001b[0m\u001b[3;35mNone\u001b[0m\u001b[39m,\u001b[0m\n",
              "\u001b[39m                            \u001b[0m\u001b[33mstart_index\u001b[0m\u001b[39m=\u001b[0m\u001b[1;36m288\u001b[0m\u001b[39m,\u001b[0m\n",
              "\u001b[39m                            \u001b[0m\u001b[33mtext\u001b[0m\u001b[39m=\u001b[0m\u001b[32m'After refunding a ticket in GDS, you can check the refunded amount.'\u001b[0m\n",
              "\u001b[39m                        \u001b[0m\u001b[1;39m)\u001b[0m\n",
              "\u001b[39m                    \u001b[0m\u001b[1;39m)\u001b[0m\u001b[39m,\u001b[0m\n",
              "\u001b[39m                    \u001b[0m\u001b[1;35mGroundingSupport\u001b[0m\u001b[1;39m(\u001b[0m\n",
              "\u001b[39m                        \u001b[0m\u001b[33mconfidence_scores\u001b[0m\u001b[39m=\u001b[0m\u001b[1;39m[\u001b[0m\u001b[1;36m0.9017638\u001b[0m\u001b[1;39m]\u001b[0m\u001b[39m,\u001b[0m\n",
              "\u001b[39m                        \u001b[0m\u001b[33mgrounding_chunk_indices\u001b[0m\u001b[39m=\u001b[0m\u001b[1;39m[\u001b[0m\u001b[1;36m0\u001b[0m\u001b[1;39m]\u001b[0m\u001b[39m,\u001b[0m\n",
              "\u001b[39m                        \u001b[0m\u001b[33msegment\u001b[0m\u001b[39m=\u001b[0m\u001b[1;35mSegment\u001b[0m\u001b[1;39m(\u001b[0m\n",
              "\u001b[39m                            \u001b[0m\u001b[33mend_index\u001b[0m\u001b[39m=\u001b[0m\u001b[1;36m507\u001b[0m\u001b[39m,\u001b[0m\n",
              "\u001b[39m                            \u001b[0m\u001b[33mpart_index\u001b[0m\u001b[39m=\u001b[0m\u001b[3;35mNone\u001b[0m\u001b[39m,\u001b[0m\n",
              "\u001b[39m                            \u001b[0m\u001b[33mstart_index\u001b[0m\u001b[39m=\u001b[0m\u001b[1;36m356\u001b[0m\u001b[39m,\u001b[0m\n",
              "\u001b[39m                            \u001b[0m\u001b[33mtext\u001b[0m\u001b[39m=\u001b[0m\u001b[32m'Once processed, the system will display: ETR REFUND MESSAGE PROCESSED REA ISSUE \u001b[0m\n",
              "\u001b[32mN/A. Ensure you are in the correct PCC to pull the correct information.'\u001b[0m\n",
              "\u001b[39m                        \u001b[0m\u001b[1;39m)\u001b[0m\n",
              "\u001b[39m                    \u001b[0m\u001b[1;39m)\u001b[0m\n",
              "\u001b[39m                \u001b[0m\u001b[1;39m]\u001b[0m\u001b[39m,\u001b[0m\n",
              "\u001b[39m                \u001b[0m\u001b[33mretrieval_metadata\u001b[0m\u001b[39m=\u001b[0m\u001b[3;35mNone\u001b[0m\u001b[39m,\u001b[0m\n",
              "\u001b[39m                \u001b[0m\u001b[33mretrieval_queries\u001b[0m\u001b[39m=\u001b[0m\u001b[1;39m[\u001b[0m\u001b[32m'How to do full refund for unused ticket?'\u001b[0m\u001b[1;39m]\u001b[0m\u001b[39m,\u001b[0m\n",
              "\u001b[39m                \u001b[0m\u001b[33msearch_entry_point\u001b[0m\u001b[39m=\u001b[0m\u001b[3;35mNone\u001b[0m\u001b[39m,\u001b[0m\n",
              "\u001b[39m                \u001b[0m\u001b[33mweb_search_queries\u001b[0m\u001b[39m=\u001b[0m\u001b[3;35mNone\u001b[0m\n",
              "\u001b[39m            \u001b[0m\u001b[1;39m)\u001b[0m\u001b[39m,\u001b[0m\n",
              "\u001b[39m            \u001b[0m\u001b[33mindex\u001b[0m\u001b[39m=\u001b[0m\u001b[3;35mNone\u001b[0m\u001b[39m,\u001b[0m\n",
              "\u001b[39m            \u001b[0m\u001b[33mlogprobs_result\u001b[0m\u001b[39m=\u001b[0m\u001b[3;35mNone\u001b[0m\u001b[39m,\u001b[0m\n",
              "\u001b[39m            \u001b[0m\u001b[33msafety_ratings\u001b[0m\u001b[39m=\u001b[0m\u001b[3;35mNone\u001b[0m\n",
              "\u001b[39m        \u001b[0m\u001b[1;39m)\u001b[0m\n",
              "\u001b[39m    \u001b[0m\u001b[1;39m]\u001b[0m\u001b[39m,\u001b[0m\n",
              "\u001b[39m    \u001b[0m\u001b[33mcreate_time\u001b[0m\u001b[39m=\u001b[0m\u001b[1;35mdatetime\u001b[0m\u001b[1;35m.datetime\u001b[0m\u001b[1;39m(\u001b[0m\u001b[1;36m2025\u001b[0m\u001b[39m, \u001b[0m\u001b[1;36m4\u001b[0m\u001b[39m, \u001b[0m\u001b[1;36m11\u001b[0m\u001b[39m, \u001b[0m\u001b[1;36m5\u001b[0m\u001b[39m, \u001b[0m\u001b[1;36m44\u001b[0m\u001b[39m, \u001b[0m\u001b[1;36m9\u001b[0m\u001b[39m, \u001b[0m\u001b[1;36m934099\u001b[0m\u001b[39m, \u001b[0m\u001b[33mtzinfo\u001b[0m\u001b[39m=\u001b[0m\u001b[1;35mTzInfo\u001b[0m\u001b[1;39m(\u001b[0m\u001b[39mUTC\u001b[0m\u001b[1;39m)\u001b[0m\u001b[1;39m)\u001b[0m\u001b[39m,\u001b[0m\n",
              "\u001b[39m    \u001b[0m\u001b[33mresponse_id\u001b[0m\u001b[39m=\u001b[0m\u001b[32m'Kaz4Z9OBOYi5qsMP1c_LmA0'\u001b[0m\u001b[39m,\u001b[0m\n",
              "\u001b[39m    \u001b[0m\u001b[33mmodel_version\u001b[0m\u001b[39m=\u001b[0m\u001b[32m'gemini-2.0-flash-001'\u001b[0m\u001b[39m,\u001b[0m\n",
              "\u001b[39m    \u001b[0m\u001b[33mprompt_feedback\u001b[0m\u001b[39m=\u001b[0m\u001b[3;35mNone\u001b[0m\u001b[39m,\u001b[0m\n",
              "\u001b[39m    \u001b[0m\u001b[33musage_metadata\u001b[0m\u001b[39m=\u001b[0m\u001b[1;35mGenerateContentResponseUsageMetadata\u001b[0m\u001b[1;39m(\u001b[0m\n",
              "\u001b[39m        \u001b[0m\u001b[33mcache_tokens_details\u001b[0m\u001b[39m=\u001b[0m\u001b[3;35mNone\u001b[0m\u001b[39m,\u001b[0m\n",
              "\u001b[39m        \u001b[0m\u001b[33mcached_content_token_count\u001b[0m\u001b[39m=\u001b[0m\u001b[3;35mNone\u001b[0m\u001b[39m,\u001b[0m\n",
              "\u001b[39m        \u001b[0m\u001b[33mcandidates_token_count\u001b[0m\u001b[39m=\u001b[0m\u001b[1;36m135\u001b[0m\u001b[39m,\u001b[0m\n",
              "\u001b[39m        \u001b[0m\u001b[33mcandidates_tokens_details\u001b[0m\u001b[39m=\u001b[0m\u001b[1;39m[\u001b[0m\u001b[1;35mModalityTokenCount\u001b[0m\u001b[1;39m(\u001b[0m\u001b[33mmodality\u001b[0m\u001b[39m=<MediaModality.TEXT: \u001b[0m\u001b[32m'TEXT'\u001b[0m\u001b[39m>, \u001b[0m\u001b[33mtoken_count\u001b[0m\u001b[39m=\u001b[0m\u001b[1;36m135\u001b[0m\u001b[1;39m)\u001b[0m\u001b[1;39m]\u001b[0m\u001b[39m,\u001b[0m\n",
              "\u001b[39m        \u001b[0m\u001b[33mprompt_token_count\u001b[0m\u001b[39m=\u001b[0m\u001b[1;36m9\u001b[0m\u001b[39m,\u001b[0m\n",
              "\u001b[39m        \u001b[0m\u001b[33mprompt_tokens_details\u001b[0m\u001b[39m=\u001b[0m\u001b[1;39m[\u001b[0m\u001b[1;35mModalityTokenCount\u001b[0m\u001b[1;39m(\u001b[0m\u001b[33mmodality\u001b[0m\u001b[39m=<MediaModality.TEXT: \u001b[0m\u001b[32m'TEXT'\u001b[0m\u001b[39m>, \u001b[0m\u001b[33mtoken_count\u001b[0m\u001b[39m=\u001b[0m\u001b[1;36m9\u001b[0m\u001b[1;39m)\u001b[0m\u001b[1;39m]\u001b[0m\u001b[39m,\u001b[0m\n",
              "\u001b[39m        \u001b[0m\u001b[33mthoughts_token_count\u001b[0m\u001b[39m=\u001b[0m\u001b[3;35mNone\u001b[0m\u001b[39m,\u001b[0m\n",
              "\u001b[39m        \u001b[0m\u001b[33mtool_use_prompt_token_count\u001b[0m\u001b[39m=\u001b[0m\u001b[3;35mNone\u001b[0m\u001b[39m,\u001b[0m\n",
              "\u001b[39m        \u001b[0m\u001b[33mtool_use_prompt_tokens_details\u001b[0m\u001b[39m=\u001b[0m\u001b[3;35mNone\u001b[0m\u001b[39m,\u001b[0m\n",
              "\u001b[39m        \u001b[0m\u001b[33mtotal_token_count\u001b[0m\u001b[39m=\u001b[0m\u001b[1;36m144\u001b[0m\u001b[39m,\u001b[0m\n",
              "\u001b[39m        \u001b[0m\u001b[33mtraffic_type\u001b[0m\u001b[39m=<TrafficType.ON_DEMAND: \u001b[0m\u001b[32m'ON_DEMAND'\u001b[0m\u001b[1m>\u001b[0m\n",
              "    \u001b[1m)\u001b[0m,\n",
              "    \u001b[33mautomatic_function_calling_history\u001b[0m=\u001b[1m[\u001b[0m\u001b[1m]\u001b[0m,\n",
              "    \u001b[33mparsed\u001b[0m=\u001b[3;35mNone\u001b[0m\n",
              "\u001b[1m)\u001b[0m\n"
            ]
          },
          "metadata": {},
          "output_type": "display_data"
        }
      ],
      "source": [
        "\n",
        "PROJECT_ID = \"hello-world-418507\"\n",
        "LOCATION = \"us-central1\"\n",
        "MODEL_ID = \"gemini-2.0-flash-001\"  # @param {type: \"string\"}\n",
        "RETRIEVAL_QUERY = \"How to do full refund for unused ticket?\"\n",
        "\n",
        "\n",
        "client = genai.Client(vertexai=True, project=PROJECT_ID, location=LOCATION)\n",
        "\n",
        "rag_resource = rag.RagResource(\n",
        "    rag_corpus=\"projects/hello-world-418507/locations/us-central1/ragCorpora/1113515007867355136\",\n",
        ")\n",
        "\n",
        "vertex_ai_search_tool = Tool(\n",
        "    retrieval=Retrieval(vertex_rag_store=VertexRagStore(rag_resources=[rag_resource]))\n",
        ")\n",
        "\n",
        "response = client.models.generate_content(\n",
        "    model=MODEL_ID,\n",
        "    contents=RETRIEVAL_QUERY,\n",
        "    config=GenerateContentConfig(tools=[vertex_ai_search_tool]),\n",
        ")\n",
        "\n",
        "rich_print(response)\n"
      ]
    },
    {
      "cell_type": "code",
      "execution_count": null,
      "metadata": {},
      "outputs": [],
      "source": []
    },
    {
      "cell_type": "markdown",
      "metadata": {
        "id": "2a4e033321ad"
      },
      "source": [
        "## Cleaning up\n",
        "\n",
        "Clean up RAG resources created in this notebook."
      ]
    },
    {
      "cell_type": "code",
      "execution_count": 45,
      "metadata": {
        "id": "a105caffd9e7"
      },
      "outputs": [
        {
          "name": "stdout",
          "output_type": "stream",
          "text": [
            "Successfully deleted the RagCorpus.\n"
          ]
        }
      ],
      "source": [
        "\n",
        "rag.delete_corpus(name=\"projects/hello-world-418507/locations/us-central1/ragCorpora/6838716034162098176\")  # pragma: allowlist secret"
      ]
    },
    {
      "cell_type": "code",
      "execution_count": null,
      "metadata": {},
      "outputs": [],
      "source": []
    }
  ],
  "metadata": {
    "colab": {
      "name": "rag_engine_vertex_ai_search.ipynb",
      "toc_visible": true
    },
    "kernelspec": {
      "display_name": "adk_release",
      "language": "python",
      "name": "python3"
    },
    "language_info": {
      "codemirror_mode": {
        "name": "ipython",
        "version": 3
      },
      "file_extension": ".py",
      "mimetype": "text/x-python",
      "name": "python",
      "nbconvert_exporter": "python",
      "pygments_lexer": "ipython3",
      "version": "3.11.11"
    }
  },
  "nbformat": 4,
  "nbformat_minor": 0
}
