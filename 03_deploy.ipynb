{
  "cells": [
    {
      "cell_type": "markdown",
      "metadata": {
        "id": "osm6MztSEX2y"
      },
      "source": [
        "# Initialization"
      ]
    },
    {
      "cell_type": "code",
      "execution_count": 1,
      "metadata": {},
      "outputs": [
        {
          "name": "stdout",
          "output_type": "stream",
          "text": [
            "Version: 1.2.1\n",
            "Version: 1.97.0\n",
            "Version: 1.19.0\n"
          ]
        }
      ],
      "source": [
        "!uv pip show google-adk google-genai google-cloud-aiplatform | grep Version"
      ]
    },
    {
      "cell_type": "code",
      "execution_count": 2,
      "metadata": {},
      "outputs": [],
      "source": [
        "import vertexai\n",
        "from vertexai.preview import reasoning_engines\n",
        "\n",
        "PROJECT_ID = \"hello-world-418507\"\n",
        "LOCATION = \"us-central1\"\n",
        "STAGING_BUCKET = \"gs://2025-wy-agentspace\"\n",
        "\n",
        "vertexai.init(\n",
        "    project=PROJECT_ID,\n",
        "    location=LOCATION,\n",
        "    staging_bucket=STAGING_BUCKET,\n",
        ")"
      ]
    },
    {
      "cell_type": "code",
      "execution_count": 3,
      "metadata": {
        "id": "eHqvFbvjyRUG"
      },
      "outputs": [],
      "source": [
        "import datetime\n",
        "from zoneinfo import ZoneInfo\n",
        "from google.adk.agents import Agent\n",
        "\n",
        "def get_weather(city: str) -> dict:\n",
        "    \"\"\"Retrieves the current weather report for a specified city.\n",
        "\n",
        "    Args:\n",
        "        city (str): The name of the city for which to retrieve the weather report.\n",
        "\n",
        "    Returns:\n",
        "        dict: status and result or error msg.\n",
        "    \"\"\"\n",
        "    if city.lower() == \"new york\":\n",
        "        return {\n",
        "            \"status\": \"success\",\n",
        "            \"report\": (\n",
        "                \"The weather in New York is sunny with a temperature of 25 degrees\"\n",
        "                \" Celsius (41 degrees Fahrenheit).\"\n",
        "            ),\n",
        "        }\n",
        "    else:\n",
        "        return {\n",
        "            \"status\": \"error\",\n",
        "            \"error_message\": f\"Weather information for '{city}' is not available.\",\n",
        "        }\n",
        "\n",
        "\n",
        "def get_current_time(city: str) -> dict:\n",
        "    \"\"\"Returns the current time in a specified city.\n",
        "\n",
        "    Args:\n",
        "        city (str): The name of the city for which to retrieve the current time.\n",
        "\n",
        "    Returns:\n",
        "        dict: status and result or error msg.\n",
        "    \"\"\"\n",
        "\n",
        "    if city.lower() == \"new york\":\n",
        "        tz_identifier = \"America/New_York\"\n",
        "    else:\n",
        "        return {\n",
        "            \"status\": \"error\",\n",
        "            \"error_message\": (\n",
        "                f\"Sorry, I don't have timezone information for {city}.\"\n",
        "            ),\n",
        "        }\n",
        "\n",
        "    tz = ZoneInfo(tz_identifier)\n",
        "    now = datetime.datetime.now(tz)\n",
        "    report = (\n",
        "        f'The current time in {city} is {now.strftime(\"%Y-%m-%d %H:%M:%S %Z%z\")}'\n",
        "    )\n",
        "    return {\"status\": \"success\", \"report\": report}\n",
        "\n",
        "\n",
        "root_agent = Agent(\n",
        "    name=\"weather_time_agent\",\n",
        "    model=\"gemini-2.0-flash-exp\",\n",
        "    description=(\n",
        "        \"Agent to answer questions about the time and weather in a city.\"\n",
        "    ),\n",
        "    instruction=(\n",
        "        \"I can answer your questions about the time and weather in a city.\"\n",
        "    ),\n",
        "    tools=[get_weather, get_current_time],\n",
        ")"
      ]
    },
    {
      "cell_type": "code",
      "execution_count": 4,
      "metadata": {},
      "outputs": [],
      "source": [
        "\n",
        "app = reasoning_engines.AdkApp(\n",
        "    agent=root_agent,\n",
        "    enable_tracing=True,\n",
        ")"
      ]
    },
    {
      "cell_type": "markdown",
      "metadata": {},
      "source": [
        "## Local test"
      ]
    },
    {
      "cell_type": "code",
      "execution_count": 9,
      "metadata": {},
      "outputs": [
        {
          "data": {
            "text/plain": [
              "Session(id='20806ce0-1496-413c-8c50-4691899d95fe', app_name='default-app-name', user_id='u_123', state={}, events=[], last_update_time=1749700287.8736682)"
            ]
          },
          "execution_count": 9,
          "metadata": {},
          "output_type": "execute_result"
        }
      ],
      "source": [
        "session = await app.async_create_session(user_id=\"u_123\")\n",
        "session"
      ]
    },
    {
      "cell_type": "code",
      "execution_count": 11,
      "metadata": {},
      "outputs": [
        {
          "data": {
            "text/plain": [
              "ListSessionsResponse(sessions=[Session(id='8f5539f1-e379-4b3f-8b05-0d4814539a42', app_name='default-app-name', user_id='u_123', state={}, events=[], last_update_time=1749700231.096045), Session(id='20806ce0-1496-413c-8c50-4691899d95fe', app_name='default-app-name', user_id='u_123', state={}, events=[], last_update_time=1749700287.8736682)])"
            ]
          },
          "execution_count": 11,
          "metadata": {},
          "output_type": "execute_result"
        }
      ],
      "source": [
        "await app.async_list_sessions(user_id=\"u_123\")\n"
      ]
    },
    {
      "cell_type": "code",
      "execution_count": 12,
      "metadata": {},
      "outputs": [
        {
          "data": {
            "text/plain": [
              "Session(id='20806ce0-1496-413c-8c50-4691899d95fe', app_name='default-app-name', user_id='u_123', state={}, events=[], last_update_time=1749700287.8736682)"
            ]
          },
          "execution_count": 12,
          "metadata": {},
          "output_type": "execute_result"
        }
      ],
      "source": [
        "session = await app.async_get_session(user_id=\"u_123\", session_id=session.id)\n",
        "session"
      ]
    },
    {
      "cell_type": "code",
      "execution_count": 16,
      "metadata": {},
      "outputs": [
        {
          "name": "stderr",
          "output_type": "stream",
          "text": [
            "Warning: there are non-text parts in the response: ['function_call'], returning concatenated text result from text parts. Check the full candidates.content.parts accessor to get the full model response.\n"
          ]
        },
        {
          "name": "stdout",
          "output_type": "stream",
          "text": [
            "****************************************************************************************************\n",
            "{'content': {'parts': [{'function_call': {'id': 'adk-57b04ca8-121f-48ed-bcb8-6d5fa0bcf97c', 'args': {'city': 'new york'}, 'name': 'get_weather'}}], 'role': 'model'}, 'usage_metadata': {'candidates_token_count': 6, 'candidates_tokens_details': [{'modality': <MediaModality.TEXT: 'TEXT'>, 'token_count': 6}], 'prompt_token_count': 302, 'prompt_tokens_details': [{'modality': <MediaModality.TEXT: 'TEXT'>, 'token_count': 302}], 'total_token_count': 308, 'traffic_type': <TrafficType.ON_DEMAND: 'ON_DEMAND'>}, 'invocation_id': 'e-3968432e-5dd1-429e-8648-3004379f8db0', 'author': 'weather_time_agent', 'actions': {'state_delta': {}, 'artifact_delta': {}, 'requested_auth_configs': {}}, 'long_running_tool_ids': set(), 'id': 'qgHNlhs2', 'timestamp': 1749700402.244068}\n",
            "****************************************************************************************************\n",
            "{'content': {'parts': [{'function_response': {'id': 'adk-57b04ca8-121f-48ed-bcb8-6d5fa0bcf97c', 'name': 'get_weather', 'response': {'status': 'success', 'report': 'The weather in New York is sunny with a temperature of 25 degrees Celsius (41 degrees Fahrenheit).'}}}], 'role': 'user'}, 'invocation_id': 'e-3968432e-5dd1-429e-8648-3004379f8db0', 'author': 'weather_time_agent', 'actions': {'state_delta': {}, 'artifact_delta': {}, 'requested_auth_configs': {}}, 'id': 'XVlxN4Iq', 'timestamp': 1749700404.407292}\n",
            "****************************************************************************************************\n",
            "{'content': {'parts': [{'text': 'The weather in New York is sunny with a temperature of 25 degrees Celsius (41 degrees Fahrenheit).\\n'}], 'role': 'model'}, 'usage_metadata': {'candidates_token_count': 23, 'candidates_tokens_details': [{'modality': <MediaModality.TEXT: 'TEXT'>, 'token_count': 23}], 'prompt_token_count': 336, 'prompt_tokens_details': [{'modality': <MediaModality.TEXT: 'TEXT'>, 'token_count': 336}], 'total_token_count': 359, 'traffic_type': <TrafficType.ON_DEMAND: 'ON_DEMAND'>}, 'invocation_id': 'e-3968432e-5dd1-429e-8648-3004379f8db0', 'author': 'weather_time_agent', 'actions': {'state_delta': {}, 'artifact_delta': {}, 'requested_auth_configs': {}}, 'id': 'dVEnZybS', 'timestamp': 1749700404.409022}\n"
          ]
        }
      ],
      "source": [
        "async for event in app.async_stream_query(\n",
        "    user_id=\"u_123\",\n",
        "    session_id=session.id,\n",
        "    message=\"whats the weather in new york\",\n",
        "):\n",
        "    print(\"*\"*100)\n",
        "    print(event)"
      ]
    },
    {
      "cell_type": "markdown",
      "metadata": {},
      "source": [
        "## Deploy"
      ]
    },
    {
      "cell_type": "code",
      "execution_count": 24,
      "metadata": {},
      "outputs": [
        {
          "name": "stdout",
          "output_type": "stream",
          "text": [
            "Deploying google.adk.agents.Agent as an application.\n",
            "Identified the following requirements: {'cloudpickle': '3.1.1', 'google-cloud-aiplatform': '1.97.0', 'pydantic': '2.11.5'}\n",
            "The following requirements are missing: {'cloudpickle', 'pydantic'}\n",
            "The following requirements are appended: {'pydantic==2.11.5', 'cloudpickle==3.1.1'}\n",
            "The final list of requirements: ['google-cloud-aiplatform[adk,agent_engines]', 'pydantic==2.11.5', 'cloudpickle==3.1.1']\n"
          ]
        },
        {
          "name": "stderr",
          "output_type": "stream",
          "text": [
            "WARNING: All log messages before absl::InitializeLog() is called are written to STDERR\n",
            "I0000 00:00:1749705483.636018  741707 fork_posix.cc:71] Other threads are currently calling into gRPC, skipping fork() handlers\n"
          ]
        },
        {
          "name": "stdout",
          "output_type": "stream",
          "text": [
            "Using bucket 2025-wy-agentspace\n",
            "Wrote to gs://2025-wy-agentspace/agent_engine/agent_engine.pkl\n",
            "Writing to gs://2025-wy-agentspace/agent_engine/requirements.txt\n",
            "Creating in-memory tarfile of extra_packages\n",
            "Writing to gs://2025-wy-agentspace/agent_engine/dependencies.tar.gz\n",
            "Creating AgentEngine\n",
            "Create AgentEngine backing LRO: projects/671247654914/locations/us-central1/reasoningEngines/8973536606745001984/operations/2943560681036709888\n",
            "View progress and logs at https://console.cloud.google.com/logs/query?project=hello-world-418507\n",
            "AgentEngine created. Resource name: projects/671247654914/locations/us-central1/reasoningEngines/8973536606745001984\n",
            "To use this AgentEngine in another session:\n",
            "agent_engine = vertexai.agent_engines.get('projects/671247654914/locations/us-central1/reasoningEngines/8973536606745001984')\n"
          ]
        }
      ],
      "source": [
        "from vertexai import agent_engines\n",
        "\n",
        "remote_app = agent_engines.create(\n",
        "    display_name=\"my_test_agent\",\n",
        "    agent_engine=root_agent,\n",
        "    requirements=[\n",
        "        \"google-cloud-aiplatform[adk,agent_engines]\"   \n",
        "    ]\n",
        ")"
      ]
    },
    {
      "cell_type": "markdown",
      "metadata": {},
      "source": [
        "## Test in new session\n",
        "\n",
        "- Pre-deployed agent engine id: 3326620808347910144"
      ]
    },
    {
      "cell_type": "code",
      "execution_count": 1,
      "metadata": {},
      "outputs": [
        {
          "data": {
            "text/plain": [
              "{'id': '5044274024968880128',\n",
              " 'events': [],\n",
              " 'userId': 'u_123',\n",
              " 'state': {},\n",
              " 'appName': '8973536606745001984',\n",
              " 'lastUpdateTime': 1749778482.654987}"
            ]
          },
          "execution_count": 1,
          "metadata": {},
          "output_type": "execute_result"
        }
      ],
      "source": [
        "from vertexai import agent_engines\n",
        "\n",
        "live_app = agent_engines.get('projects/671247654914/locations/us-central1/reasoningEngines/8973536606745001984')\n",
        "session = await live_app.async_create_session(user_id=\"u_123\")\n",
        "session"
      ]
    },
    {
      "cell_type": "code",
      "execution_count": 2,
      "metadata": {},
      "outputs": [],
      "source": [
        "# Check available operations\n",
        "# live_app.operation_schemas()"
      ]
    },
    {
      "cell_type": "code",
      "execution_count": 3,
      "metadata": {},
      "outputs": [
        {
          "data": {
            "text/plain": [
              "{'sessions': [{'events': [],\n",
              "   'state': {},\n",
              "   'id': '5044274024968880128',\n",
              "   'userId': 'u_123',\n",
              "   'appName': '8973536606745001984',\n",
              "   'lastUpdateTime': 1749778482.654987},\n",
              "  {'events': [],\n",
              "   'userId': 'u_123',\n",
              "   'state': {},\n",
              "   'id': '2735475528499724288',\n",
              "   'appName': '8973536606745001984',\n",
              "   'lastUpdateTime': 1749718266.498853}]}"
            ]
          },
          "execution_count": 3,
          "metadata": {},
          "output_type": "execute_result"
        }
      ],
      "source": [
        "await live_app.async_list_sessions(user_id=\"u_123\")"
      ]
    },
    {
      "cell_type": "code",
      "execution_count": 4,
      "metadata": {},
      "outputs": [
        {
          "data": {
            "text/plain": [
              "[{'events': [{'content': {'parts': [{'function_call': {'id': 'adk-1a0ca32c-02fe-45f6-86a2-88f327ccf1f4',\n",
              "        'args': {'city': 'new york'},\n",
              "        'name': 'get_weather'}}],\n",
              "     'role': 'model'},\n",
              "    'usage_metadata': {'candidates_token_count': 6,\n",
              "     'candidates_tokens_details': [{'modality': 'TEXT', 'token_count': 6}],\n",
              "     'prompt_token_count': 176,\n",
              "     'prompt_tokens_details': [{'modality': 'TEXT', 'token_count': 176}],\n",
              "     'total_token_count': 182,\n",
              "     'traffic_type': 'ON_DEMAND'},\n",
              "    'invocation_id': 'e-886dc803-09c8-4848-925c-5b17abd71111',\n",
              "    'author': 'weather_time_agent',\n",
              "    'actions': {'state_delta': {},\n",
              "     'artifact_delta': {},\n",
              "     'requested_auth_configs': {}},\n",
              "    'long_running_tool_ids': [],\n",
              "    'id': 'FW4DFxRM',\n",
              "    'timestamp': 1749778490.051801}]},\n",
              " {'events': [{'content': {'parts': [{'function_response': {'id': 'adk-1a0ca32c-02fe-45f6-86a2-88f327ccf1f4',\n",
              "        'name': 'get_weather',\n",
              "        'response': {'status': 'success',\n",
              "         'report': 'The weather in New York is sunny with a temperature of 25 degrees Celsius (41 degrees Fahrenheit).'}}}],\n",
              "     'role': 'user'},\n",
              "    'invocation_id': 'e-886dc803-09c8-4848-925c-5b17abd71111',\n",
              "    'author': 'weather_time_agent',\n",
              "    'actions': {'state_delta': {},\n",
              "     'artifact_delta': {},\n",
              "     'requested_auth_configs': {}},\n",
              "    'id': 'OyYkRJgV',\n",
              "    'timestamp': 1749778490.536839}]},\n",
              " {'events': [{'content': {'parts': [{'text': 'OK. The weather in New York is sunny with a temperature of 25 degrees Celsius (41 degrees Fahrenheit).\\n'}],\n",
              "     'role': 'model'},\n",
              "    'usage_metadata': {'candidates_token_count': 25,\n",
              "     'candidates_tokens_details': [{'modality': 'TEXT', 'token_count': 25}],\n",
              "     'prompt_token_count': 210,\n",
              "     'prompt_tokens_details': [{'modality': 'TEXT', 'token_count': 210}],\n",
              "     'total_token_count': 235,\n",
              "     'traffic_type': 'ON_DEMAND'},\n",
              "    'invocation_id': 'e-886dc803-09c8-4848-925c-5b17abd71111',\n",
              "    'author': 'weather_time_agent',\n",
              "    'actions': {'state_delta': {},\n",
              "     'artifact_delta': {},\n",
              "     'requested_auth_configs': {}},\n",
              "    'id': 'ekKi4fpb',\n",
              "    'timestamp': 1749778490.537884}]}]"
            ]
          },
          "execution_count": 4,
          "metadata": {},
          "output_type": "execute_result"
        }
      ],
      "source": [
        "import json\n",
        "\n",
        "request_json = json.dumps(\n",
        "    {\n",
        "        # \"artifacts\": [\n",
        "        #     {\n",
        "        #         \"file_name\": \"test_file_name\",\n",
        "        #         \"versions\": [{\"version\": \"v1\", \"data\": \"v1data\"}],\n",
        "        #     }\n",
        "        # ],\n",
        "        # \"authorizations\": {\n",
        "        #     \"test_user_id1\": {\"access_token\": \"test_access_token\"},\n",
        "        #     \"test_user_id2\": {\"accessToken\": \"test-access-token\"},\n",
        "        # },\n",
        "        \"user_id\": \"u_123\",\n",
        "        \"message\": {\n",
        "            \"parts\": [{\"text\": \"whats the weather in new york?\"}],\n",
        "            \"role\": \"user\",\n",
        "        },\n",
        "    }\n",
        ")\n",
        "events = list(live_app.streaming_agent_run_with_events(request_json=request_json))\n",
        "events"
      ]
    },
    {
      "cell_type": "markdown",
      "metadata": {},
      "source": [
        "## Logging"
      ]
    },
    {
      "cell_type": "markdown",
      "metadata": {},
      "source": [
        "```bash\n",
        "resource.type=\"aiplatform.googleapis.com/ReasoningEngine\"\n",
        "resource.labels.location=\"us-central1\"\n",
        "resource.labels.reasoning_engine_id=\"2590282269272834048\"\n",
        "```"
      ]
    },
    {
      "cell_type": "code",
      "execution_count": 19,
      "metadata": {},
      "outputs": [],
      "source": [
        "from google.cloud import logging\n",
        "from datetime import datetime, timedelta\n",
        "import pytz\n",
        "\n",
        "def get_recent_logs(engine_id, minutes=5):\n",
        "    \"\"\"\n",
        "    Retrieve logs from a specific Reasoning Engine for the last specified minutes.\n",
        "    \n",
        "    Args:\n",
        "        engine_id (str): The ID of the Reasoning Engine\n",
        "        minutes (int): Number of minutes to look back for logs\n",
        "    \n",
        "    Returns:\n",
        "        List of log entries\n",
        "    \"\"\"\n",
        "    # Initialize the logging client\n",
        "    client = logging.Client()\n",
        "    \n",
        "    # Calculate the time range in Pacific Time\n",
        "    vegas_tz = pytz.timezone('America/Los_Angeles')\n",
        "    end_time = datetime.now(vegas_tz)\n",
        "    start_time = end_time - timedelta(minutes=minutes)\n",
        "    \n",
        "    # Format the start timestamp for the query\n",
        "    start_time_str = start_time.strftime('%Y-%m-%dT%H:%M:%S.%fZ')\n",
        "    \n",
        "    # Construct the filter string\n",
        "    filter_str = (\n",
        "        'resource.type=\"aiplatform.googleapis.com/ReasoningEngine\" '\n",
        "        'resource.labels.location=\"us-central1\" '\n",
        "        f'resource.labels.reasoning_engine_id=\"{engine_id}\" '\n",
        "        f'timestamp >= \"{start_time_str}\"'\n",
        "    )\n",
        "    \n",
        "    # Create an iterator for the logs and convert to list\n",
        "    entries = list(client.list_entries(filter_=filter_str))\n",
        "    \n",
        "    print(f\"Found {len(entries)} log entries in the last {minutes} minutes\")\n",
        "    \n",
        "    # Print just the payload for each log entry\n",
        "    for i, entry in enumerate(entries, 1):\n",
        "        print(f\"\\n--- Log Entry {i} ---\")\n",
        "        print(f\"Payload: {entry.payload}\")\n",
        "\n"
      ]
    },
    {
      "cell_type": "code",
      "execution_count": null,
      "metadata": {},
      "outputs": [],
      "source": [
        "# Get logs for the last 15 minutes\n",
        "get_recent_logs(engine_id=\"8817529100903120896\", minutes=3)"
      ]
    },
    {
      "cell_type": "markdown",
      "metadata": {},
      "source": [
        "## Registration\n",
        "\n",
        "- Copy and paste, and run the command in terminal\n"
      ]
    },
    {
      "cell_type": "code",
      "execution_count": null,
      "metadata": {},
      "outputs": [],
      "source": [
        "%%bash\n",
        "\n",
        "export PROJECT_NUMBER=\"671247654914\"\n",
        "export LOCATION=\"us-central1\"\n",
        "export APP_ID=\"agentspace-dev_1744685873939\"\"\n",
        "export ADK_DEPLOYMENT_ID=\"8973536606745001984\"\n",
        "export DISPLAY_NAME=\"Weather Agent ADK1.2 CMD\"\n",
        "export DESCRIPTION=\"Weather agent for New York, United States.\"\n",
        "export TOOL_DESCRIPTION=\"Use this tool when user ask about weather in New York only\"\n",
        "export REASONING_ENGINE=\"projects/${PROJECT_NUMBER}/locations/{LOCATION}/reasoningEngines/${ADK_DEPLOYMENT_ID}\"\n",
        "\n",
        "\n",
        "curl -X POST \\\n",
        "  -H \"Authorization: Bearer $(gcloud auth print-access-token)\" \\\n",
        "  -H \"Content-Type: application/json\" \\\n",
        "  -H \"X-Goog-User-Project: ${PROJECT_NUMBER}\" \\\n",
        "  \"https://discoveryengine.googleapis.com/v1alpha/projects/${PROJECT_NUMBER}/locations/global/collections/default_collection/engines/${APP_ID}/assistants/default_assistant/agents\" \\\n",
        "  -d \"{\n",
        "    \\\"displayName\\\": \\\"${DISPLAY_NAME}\\\",\n",
        "    \\\"description\\\": \\\"${DESCRIPTION}\\\",\n",
        "    \\\"adk_agent_definition\\\": {\n",
        "      \\\"tool_settings\\\": {\n",
        "        \\\"tool_description\\\": \\\"${TOOL_DESCRIPTION}\\\"\n",
        "      },\n",
        "      \\\"provisioned_reasoning_engine\\\": {\n",
        "        \\\"reasoning_engine\\\": \\\"projects/${PROJECT_NUMBER}/locations/${LOCATION}/reasoningEngines/${ADK_DEPLOYMENT_ID}\\\"\n",
        "      }\n",
        "    }\n",
        "  }\"\n"
      ]
    },
    {
      "cell_type": "markdown",
      "metadata": {
        "id": "Q80NTTyGs939"
      },
      "source": [
        "## Delete Agent Engine"
      ]
    },
    {
      "cell_type": "code",
      "execution_count": null,
      "metadata": {
        "colab": {
          "base_uri": "https://localhost:8080/"
        },
        "id": "GCel9M-YsdUr",
        "outputId": "e8874853-adda-499b-e5e1-b269c59e4b3e"
      },
      "outputs": [],
      "source": [
        "remote_app.delete(force=True)"
      ]
    }
  ],
  "metadata": {
    "colab": {
      "provenance": []
    },
    "kernelspec": {
      "display_name": ".venv",
      "language": "python",
      "name": "python3"
    },
    "language_info": {
      "codemirror_mode": {
        "name": "ipython",
        "version": 3
      },
      "file_extension": ".py",
      "mimetype": "text/x-python",
      "name": "python",
      "nbconvert_exporter": "python",
      "pygments_lexer": "ipython3",
      "version": "3.12.9"
    }
  },
  "nbformat": 4,
  "nbformat_minor": 0
}
