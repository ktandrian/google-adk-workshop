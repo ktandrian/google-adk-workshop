{
  "cells": [
    {
      "cell_type": "markdown",
      "metadata": {
        "id": "osm6MztSEX2y"
      },
      "source": [
        "# Initialization"
      ]
    },
    {
      "cell_type": "code",
      "execution_count": 1,
      "metadata": {},
      "outputs": [],
      "source": [
        "import vertexai\n",
        "from vertexai.preview import reasoning_engines\n",
        "\n",
        "PROJECT_ID = \"hello-world-418507\"\n",
        "LOCATION = \"us-central1\"\n",
        "STAGING_BUCKET = \"gs://2025-wy-agentspace\"\n",
        "\n",
        "vertexai.init(\n",
        "    project=PROJECT_ID,\n",
        "    location=LOCATION,\n",
        "    staging_bucket=STAGING_BUCKET,\n",
        ")"
      ]
    },
    {
      "cell_type": "code",
      "execution_count": 2,
      "metadata": {
        "id": "eHqvFbvjyRUG"
      },
      "outputs": [],
      "source": [
        "import datetime\n",
        "from zoneinfo import ZoneInfo\n",
        "from google.adk.agents import Agent\n",
        "\n",
        "def get_weather(city: str) -> dict:\n",
        "    \"\"\"Retrieves the current weather report for a specified city.\n",
        "\n",
        "    Args:\n",
        "        city (str): The name of the city for which to retrieve the weather report.\n",
        "\n",
        "    Returns:\n",
        "        dict: status and result or error msg.\n",
        "    \"\"\"\n",
        "    if city.lower() == \"new york\":\n",
        "        return {\n",
        "            \"status\": \"success\",\n",
        "            \"report\": (\n",
        "                \"The weather in New York is sunny with a temperature of 25 degrees\"\n",
        "                \" Celsius (41 degrees Fahrenheit).\"\n",
        "            ),\n",
        "        }\n",
        "    else:\n",
        "        return {\n",
        "            \"status\": \"error\",\n",
        "            \"error_message\": f\"Weather information for '{city}' is not available.\",\n",
        "        }\n",
        "\n",
        "\n",
        "def get_current_time(city: str) -> dict:\n",
        "    \"\"\"Returns the current time in a specified city.\n",
        "\n",
        "    Args:\n",
        "        city (str): The name of the city for which to retrieve the current time.\n",
        "\n",
        "    Returns:\n",
        "        dict: status and result or error msg.\n",
        "    \"\"\"\n",
        "\n",
        "    if city.lower() == \"new york\":\n",
        "        tz_identifier = \"America/New_York\"\n",
        "    else:\n",
        "        return {\n",
        "            \"status\": \"error\",\n",
        "            \"error_message\": (\n",
        "                f\"Sorry, I don't have timezone information for {city}.\"\n",
        "            ),\n",
        "        }\n",
        "\n",
        "    tz = ZoneInfo(tz_identifier)\n",
        "    now = datetime.datetime.now(tz)\n",
        "    report = (\n",
        "        f'The current time in {city} is {now.strftime(\"%Y-%m-%d %H:%M:%S %Z%z\")}'\n",
        "    )\n",
        "    return {\"status\": \"success\", \"report\": report}\n",
        "\n",
        "\n",
        "root_agent = Agent(\n",
        "    name=\"weather_time_agent\",\n",
        "    model=\"gemini-2.0-flash-exp\",\n",
        "    description=(\n",
        "        \"Agent to answer questions about the time and weather in a city.\"\n",
        "    ),\n",
        "    instruction=(\n",
        "        \"I can answer your questions about the time and weather in a city.\"\n",
        "    ),\n",
        "    tools=[get_weather, get_current_time],\n",
        ")"
      ]
    },
    {
      "cell_type": "code",
      "execution_count": 3,
      "metadata": {},
      "outputs": [],
      "source": [
        "\n",
        "app = reasoning_engines.AdkApp(\n",
        "    agent=root_agent,\n",
        "    enable_tracing=True,\n",
        ")"
      ]
    },
    {
      "cell_type": "markdown",
      "metadata": {},
      "source": [
        "## Local test"
      ]
    },
    {
      "cell_type": "code",
      "execution_count": null,
      "metadata": {},
      "outputs": [],
      "source": [
        "session = app.create_session(user_id=\"u_123\")\n",
        "session"
      ]
    },
    {
      "cell_type": "code",
      "execution_count": null,
      "metadata": {},
      "outputs": [],
      "source": [
        "app.list_sessions(user_id=\"u_123\")\n"
      ]
    },
    {
      "cell_type": "code",
      "execution_count": null,
      "metadata": {},
      "outputs": [],
      "source": [
        "session = app.get_session(user_id=\"u_123\", session_id=session.id)\n",
        "session"
      ]
    },
    {
      "cell_type": "code",
      "execution_count": null,
      "metadata": {},
      "outputs": [],
      "source": [
        "for event in app.stream_query(\n",
        "    user_id=\"u_123\",\n",
        "    session_id=session.id,\n",
        "    message=\"whats the weather in london\",\n",
        "):\n",
        "    print(\"*\"*100)\n",
        "    print(event)"
      ]
    },
    {
      "cell_type": "code",
      "execution_count": null,
      "metadata": {},
      "outputs": [],
      "source": [
        "for event in app.stream_query(\n",
        "    user_id=\"u_123\",\n",
        "    session_id=session.id,\n",
        "    message=\"whats the weather in new york\",\n",
        "):\n",
        "    print(\"*\"*100)\n",
        "    print(event)"
      ]
    },
    {
      "cell_type": "markdown",
      "metadata": {},
      "source": [
        "## Deploy\n",
        "\n",
        "- reason engine id: 3326620808347910144"
      ]
    },
    {
      "cell_type": "code",
      "execution_count": null,
      "metadata": {},
      "outputs": [],
      "source": [
        "from vertexai import agent_engines\n",
        "\n",
        "remote_app = agent_engines.create(\n",
        "    agent_engine=root_agent,\n",
        "    requirements=[\n",
        "        \"google-cloud-aiplatform[adk,agent_engines]\"   \n",
        "    ]\n",
        ")"
      ]
    },
    {
      "cell_type": "markdown",
      "metadata": {},
      "source": [
        "## Test in new session"
      ]
    },
    {
      "cell_type": "code",
      "execution_count": null,
      "metadata": {},
      "outputs": [],
      "source": [
        "live_app = vertexai.agent_engines.get('projects/671247654914/locations/us-central1/reasoningEngines/3326620808347910144')\n",
        "session = live_app.create_session(user_id=\"u_123\")\n",
        "session"
      ]
    },
    {
      "cell_type": "code",
      "execution_count": null,
      "metadata": {},
      "outputs": [],
      "source": [
        "for event in live_app.stream_query(\n",
        "    user_id=\"u_123\",\n",
        "    session_id=session[\"id\"],\n",
        "    message=\"whats the weather in london\",\n",
        "):\n",
        "    print(\"*\"*100)\n",
        "    print(event)"
      ]
    },
    {
      "cell_type": "markdown",
      "metadata": {},
      "source": [
        "## Logging"
      ]
    },
    {
      "cell_type": "markdown",
      "metadata": {},
      "source": [
        "```bash\n",
        "resource.type=\"aiplatform.googleapis.com/ReasoningEngine\"\n",
        "resource.labels.location=\"us-central1\"\n",
        "resource.labels.reasoning_engine_id=\"2590282269272834048\"\n",
        "```"
      ]
    },
    {
      "cell_type": "code",
      "execution_count": 58,
      "metadata": {},
      "outputs": [],
      "source": [
        "from google.cloud import logging\n",
        "from datetime import datetime, timedelta\n",
        "import pytz\n",
        "\n",
        "def get_recent_logs(engine_id, minutes=5):\n",
        "    \"\"\"\n",
        "    Retrieve logs from a specific Reasoning Engine for the last specified minutes.\n",
        "    \n",
        "    Args:\n",
        "        engine_id (str): The ID of the Reasoning Engine\n",
        "        minutes (int): Number of minutes to look back for logs\n",
        "    \n",
        "    Returns:\n",
        "        List of log entries\n",
        "    \"\"\"\n",
        "    # Initialize the logging client\n",
        "    client = logging.Client()\n",
        "    \n",
        "    # Calculate the time range in Pacific Time\n",
        "    vegas_tz = pytz.timezone('America/Los_Angeles')\n",
        "    end_time = datetime.now(vegas_tz)\n",
        "    start_time = end_time - timedelta(minutes=minutes)\n",
        "    \n",
        "    # Format the start timestamp for the query\n",
        "    start_time_str = start_time.strftime('%Y-%m-%dT%H:%M:%S.%fZ')\n",
        "    \n",
        "    # Construct the filter string\n",
        "    filter_str = (\n",
        "        'resource.type=\"aiplatform.googleapis.com/ReasoningEngine\" '\n",
        "        'resource.labels.location=\"us-central1\" '\n",
        "        f'resource.labels.reasoning_engine_id=\"{engine_id}\" '\n",
        "        f'timestamp >= \"{start_time_str}\"'\n",
        "    )\n",
        "    \n",
        "    # Create an iterator for the logs and convert to list\n",
        "    entries = list(client.list_entries(filter_=filter_str))\n",
        "    \n",
        "    print(f\"Found {len(entries)} log entries in the last {minutes} minutes\")\n",
        "    \n",
        "    # Print just the payload for each log entry\n",
        "    for i, entry in enumerate(entries, 1):\n",
        "        print(f\"\\n--- Log Entry {i} ---\")\n",
        "        print(f\"Payload: {entry.payload}\")\n",
        "\n"
      ]
    },
    {
      "cell_type": "code",
      "execution_count": null,
      "metadata": {},
      "outputs": [],
      "source": [
        "# Get logs for the last 15 minutes\n",
        "get_recent_logs(engine_id=\"3326620808347910144\", minutes=5)"
      ]
    },
    {
      "cell_type": "markdown",
      "metadata": {},
      "source": [
        "## Agentspace Registration"
      ]
    },
    {
      "cell_type": "code",
      "execution_count": null,
      "metadata": {
        "id": "NL1PaRWSsM7m"
      },
      "outputs": [],
      "source": [
        "%%bash\n",
        "export PROJECT_ID=\"hello-world-418507\" \n",
        "export PROJECT_NUMBER=\"671247654914\" \n",
        "export REASONING_ENGINE=\"projects/671247654914/locations/us-central1/reasoningEngines/3326620808347910144\" \n",
        "export AGENT_DISPLAY_NAME=\"Wei WeatherAgent\"\n",
        "export AGENT_DESCRIPTION=\"Agent to answer questions about the time and weather in a city.\"\n",
        "export AGENT_ID=\"wei_weather_agent\" \n",
        "export AS_APP=\"2025-abc-gds_1741922567491\" \n",
        "\n",
        "curl -X PATCH -H \"Authorization: Bearer $(gcloud auth print-access-token)\" \\\n",
        "-H \"Content-Type: application/json\" \\\n",
        "-H \"x-goog-user-project: ${PROJECT_ID}\" \\\n",
        "https://discoveryengine.googleapis.com/v1alpha/projects/${PROJECT_NUMBER}/locations/global/collections/default_collection/engines/${AS_APP}/assistants/default_assistant?updateMask=agent_configs -d '{\n",
        "    \"name\": \"projects/${PROJECT_NUMBER}/locations/global/collections/default_collection/engines/${AS_APP}/assistants/default_assistant\",\n",
        "    \"displayName\": \"Default Assistant\",\n",
        "    \"agentConfigs\": [{\n",
        "      \"displayName\": \"'\"${AGENT_DISPLAY_NAME}\"'\",\n",
        "      \"vertexAiSdkAgentConnectionInfo\": {\n",
        "        \"reasoningEngine\": \"'\"${REASONING_ENGINE}\"'\"\n",
        "      },\n",
        "      \"toolDescription\": \"'\"${AGENT_DESCRIPTION}\"'\",\n",
        "      \"icon\": {\n",
        "        \"uri\": \"https://fonts.gstatic.com/s/i/short-term/release/googlesymbols/corporate_fare/default/24px.svg\"\n",
        "      },\n",
        "      \"id\": \"'\"${AGENT_ID}\"'\"\n",
        "    }]\n",
        "  }'"
      ]
    },
    {
      "cell_type": "markdown",
      "metadata": {
        "id": "Q80NTTyGs939"
      },
      "source": [
        "## Delete Agent Engine"
      ]
    },
    {
      "cell_type": "code",
      "execution_count": null,
      "metadata": {
        "colab": {
          "base_uri": "https://localhost:8080/"
        },
        "id": "GCel9M-YsdUr",
        "outputId": "e8874853-adda-499b-e5e1-b269c59e4b3e"
      },
      "outputs": [],
      "source": [
        "remote_app.delete(force=True)"
      ]
    }
  ],
  "metadata": {
    "colab": {
      "provenance": []
    },
    "kernelspec": {
      "display_name": "adk_release",
      "language": "python",
      "name": "python3"
    },
    "language_info": {
      "codemirror_mode": {
        "name": "ipython",
        "version": 3
      },
      "file_extension": ".py",
      "mimetype": "text/x-python",
      "name": "python",
      "nbconvert_exporter": "python",
      "pygments_lexer": "ipython3",
      "version": "3.11.11"
    }
  },
  "nbformat": 4,
  "nbformat_minor": 0
}
