{
  "cells": [
    {
      "cell_type": "code",
      "execution_count": null,
      "metadata": {
        "id": "4KG8heslwNdJ"
      },
      "outputs": [],
      "source": [
        "# Copyright 2024 Google LLC\n",
        "#\n",
        "# Licensed under the Apache License, Version 2.0 (the \"License\");\n",
        "# you may not use this file except in compliance with the License.\n",
        "# You may obtain a copy of the License at\n",
        "#\n",
        "#     https://www.apache.org/licenses/LICENSE-2.0\n",
        "#\n",
        "# Unless required by applicable law or agreed to in writing, software\n",
        "# distributed under the License is distributed on an \"AS IS\" BASIS,\n",
        "# WITHOUT WARRANTIES OR CONDITIONS OF ANY KIND, either express or implied.\n",
        "# See the License for the specific language governing permissions and\n",
        "# limitations under the License."
      ]
    },
    {
      "cell_type": "markdown",
      "metadata": {
        "id": "3OqG2k_o_zmb"
      },
      "source": [
        "# Use the ADK to define an agent and deploy it to Vertex AI Agent Engine\n",
        "This notebook shows how to use the Agent Framework to define a simple, hello world, agent for a dice rolling game. Then, we deploy the defined agent to the Vertex AI Agent Engine to call and manage the agent in production. In this notebook you will learn how to do the following:\n",
        "\n",
        "*  Install Agent Framework\n",
        "*  Define functions as tools\n",
        "*  Create a \"Hello World\" agent using the Agent Framework\n",
        "*  Deploy the agent on Vertex AI Agent Engine\n",
        "*  Call the Agent Engine to manage and interact with the agent\n"
      ]
    },
    {
      "cell_type": "markdown",
      "metadata": {
        "id": "lz5Yy_jXH-Ur"
      },
      "source": [
        "# Authenticate\n",
        "You need this to download the SDK from GCS"
      ]
    },
    {
      "cell_type": "code",
      "execution_count": null,
      "metadata": {
        "id": "chT-5K9yrrW9"
      },
      "outputs": [],
      "source": [
        "from google.colab import auth\n",
        "auth.authenticate_user()\n",
        "\n",
        "RELEASE_VERSION='google_adk-0.0.2.dev20250326+nightly740999296'\n",
        "WHL_FILE = f\"{RELEASE_VERSION}-py3-none-any.whl\""
      ]
    },
    {
      "cell_type": "markdown",
      "metadata": {
        "id": "E29jokLY8VRH"
      },
      "source": [
        "# Download and install the ADK and Agent Engine SDK\n",
        "\n",
        "Download `.whl` file from the shared GCS bucket:"
      ]
    },
    {
      "cell_type": "code",
      "execution_count": null,
      "metadata": {
        "colab": {
          "base_uri": "https://localhost:8080/"
        },
        "collapsed": true,
        "id": "kbOr_nWeYa9g",
        "outputId": "d7ab6336-e266-452f-8c12-60584c6af89d"
      },
      "outputs": [
        {
          "name": "stdout",
          "output_type": "stream",
          "text": [
            "Copying gs://agent_framework/history/google_adk-0.0.2.dev20250326+nightly740999296-py3-none-any.whl...\n",
            "/ [1 files][  1.2 MiB/  1.2 MiB]                                                \n",
            "Operation completed over 1 objects/1.2 MiB.                                      \n",
            "\u001b[2K     \u001b[90m━━━━━━━━━━━━━━━━━━━━━━━━━━━━━━━━━━━━━━━━\u001b[0m \u001b[32m44.3/44.3 kB\u001b[0m \u001b[31m2.0 MB/s\u001b[0m eta \u001b[36m0:00:00\u001b[0m\n",
            "\u001b[2K   \u001b[90m━━━━━━━━━━━━━━━━━━━━━━━━━━━━━━━━━━━━━━━━\u001b[0m \u001b[32m231.4/231.4 kB\u001b[0m \u001b[31m3.0 MB/s\u001b[0m eta \u001b[36m0:00:00\u001b[0m\n",
            "\u001b[2K   \u001b[90m━━━━━━━━━━━━━━━━━━━━━━━━━━━━━━━━━━━━━━━━\u001b[0m \u001b[32m95.2/95.2 kB\u001b[0m \u001b[31m2.2 MB/s\u001b[0m eta \u001b[36m0:00:00\u001b[0m\n",
            "\u001b[2K   \u001b[90m━━━━━━━━━━━━━━━━━━━━━━━━━━━━━━━━━━━━━━━━\u001b[0m \u001b[32m40.8/40.8 kB\u001b[0m \u001b[31m2.0 MB/s\u001b[0m eta \u001b[36m0:00:00\u001b[0m\n",
            "\u001b[2K   \u001b[90m━━━━━━━━━━━━━━━━━━━━━━━━━━━━━━━━━━━━━━━━\u001b[0m \u001b[32m9.8/9.8 MB\u001b[0m \u001b[31m6.8 MB/s\u001b[0m eta \u001b[36m0:00:00\u001b[0m\n",
            "\u001b[2K   \u001b[90m━━━━━━━━━━━━━━━━━━━━━━━━━━━━━━━━━━━━━━━━\u001b[0m \u001b[32m62.3/62.3 kB\u001b[0m \u001b[31m4.4 MB/s\u001b[0m eta \u001b[36m0:00:00\u001b[0m\n",
            "\u001b[2K   \u001b[90m━━━━━━━━━━━━━━━━━━━━━━━━━━━━━━━━━━━━━━━━\u001b[0m \u001b[32m103.3/103.3 kB\u001b[0m \u001b[31m5.6 MB/s\u001b[0m eta \u001b[36m0:00:00\u001b[0m\n",
            "\u001b[2K   \u001b[90m━━━━━━━━━━━━━━━━━━━━━━━━━━━━━━━━━━━━━━━━\u001b[0m \u001b[32m1.6/1.6 MB\u001b[0m \u001b[31m9.4 MB/s\u001b[0m eta \u001b[36m0:00:00\u001b[0m\n",
            "\u001b[2K   \u001b[90m━━━━━━━━━━━━━━━━━━━━━━━━━━━━━━━━━━━━━━━━\u001b[0m \u001b[32m6.9/6.9 MB\u001b[0m \u001b[31m11.6 MB/s\u001b[0m eta \u001b[36m0:00:00\u001b[0m\n",
            "\u001b[2K   \u001b[90m━━━━━━━━━━━━━━━━━━━━━━━━━━━━━━━━━━━━━━━━\u001b[0m \u001b[32m302.3/302.3 kB\u001b[0m \u001b[31m8.2 MB/s\u001b[0m eta \u001b[36m0:00:00\u001b[0m\n",
            "\u001b[2K   \u001b[90m━━━━━━━━━━━━━━━━━━━━━━━━━━━━━━━━━━━━━━━━\u001b[0m \u001b[32m72.0/72.0 kB\u001b[0m \u001b[31m6.0 MB/s\u001b[0m eta \u001b[36m0:00:00\u001b[0m\n",
            "\u001b[2K   \u001b[90m━━━━━━━━━━━━━━━━━━━━━━━━━━━━━━━━━━━━━━━━\u001b[0m \u001b[32m79.1/79.1 kB\u001b[0m \u001b[31m6.0 MB/s\u001b[0m eta \u001b[36m0:00:00\u001b[0m\n",
            "\u001b[2K   \u001b[90m━━━━━━━━━━━━━━━━━━━━━━━━━━━━━━━━━━━━━━━━\u001b[0m \u001b[32m1.2/1.2 MB\u001b[0m \u001b[31m12.3 MB/s\u001b[0m eta \u001b[36m0:00:00\u001b[0m\n",
            "\u001b[2K   \u001b[90m━━━━━━━━━━━━━━━━━━━━━━━━━━━━━━━━━━━━━━━━\u001b[0m \u001b[32m50.9/50.9 kB\u001b[0m \u001b[31m3.5 MB/s\u001b[0m eta \u001b[36m0:00:00\u001b[0m\n",
            "\u001b[2K   \u001b[90m━━━━━━━━━━━━━━━━━━━━━━━━━━━━━━━━━━━━━━━━\u001b[0m \u001b[32m129.1/129.1 kB\u001b[0m \u001b[31m8.2 MB/s\u001b[0m eta \u001b[36m0:00:00\u001b[0m\n",
            "\u001b[?25h  Preparing metadata (setup.py) ... \u001b[?25l\u001b[?25hdone\n",
            "\u001b[2K     \u001b[90m━━━━━━━━━━━━━━━━━━━━━━━━━━━━━━━━━━━━━━━━\u001b[0m \u001b[32m63.5/63.5 kB\u001b[0m \u001b[31m1.9 MB/s\u001b[0m eta \u001b[36m0:00:00\u001b[0m\n",
            "\u001b[2K     \u001b[90m━━━━━━━━━━━━━━━━━━━━━━━━━━━━━━━━━━━━━━━━\u001b[0m \u001b[32m62.0/62.0 kB\u001b[0m \u001b[31m4.1 MB/s\u001b[0m eta \u001b[36m0:00:00\u001b[0m\n",
            "\u001b[2K   \u001b[90m━━━━━━━━━━━━━━━━━━━━━━━━━━━━━━━━━━━━━━━━\u001b[0m \u001b[32m160.1/160.1 kB\u001b[0m \u001b[31m6.6 MB/s\u001b[0m eta \u001b[36m0:00:00\u001b[0m\n",
            "\u001b[2K   \u001b[90m━━━━━━━━━━━━━━━━━━━━━━━━━━━━━━━━━━━━━━━━\u001b[0m \u001b[32m210.8/210.8 kB\u001b[0m \u001b[31m14.8 MB/s\u001b[0m eta \u001b[36m0:00:00\u001b[0m\n",
            "\u001b[2K   \u001b[90m━━━━━━━━━━━━━━━━━━━━━━━━━━━━━━━━━━━━━━━━\u001b[0m \u001b[32m250.1/250.1 kB\u001b[0m \u001b[31m16.1 MB/s\u001b[0m eta \u001b[36m0:00:00\u001b[0m\n",
            "\u001b[2K   \u001b[90m━━━━━━━━━━━━━━━━━━━━━━━━━━━━━━━━━━━━━━━━\u001b[0m \u001b[32m219.2/219.2 kB\u001b[0m \u001b[31m16.3 MB/s\u001b[0m eta \u001b[36m0:00:00\u001b[0m\n",
            "\u001b[2K   \u001b[90m━━━━━━━━━━━━━━━━━━━━━━━━━━━━━━━━━━━━━━━━\u001b[0m \u001b[32m394.3/394.3 kB\u001b[0m \u001b[31m21.5 MB/s\u001b[0m eta \u001b[36m0:00:00\u001b[0m\n",
            "\u001b[2K   \u001b[90m━━━━━━━━━━━━━━━━━━━━━━━━━━━━━━━━━━━━━━━━\u001b[0m \u001b[32m131.8/131.8 kB\u001b[0m \u001b[31m10.2 MB/s\u001b[0m eta \u001b[36m0:00:00\u001b[0m\n",
            "\u001b[2K   \u001b[90m━━━━━━━━━━━━━━━━━━━━━━━━━━━━━━━━━━━━━━━━\u001b[0m \u001b[32m118.9/118.9 kB\u001b[0m \u001b[31m8.6 MB/s\u001b[0m eta \u001b[36m0:00:00\u001b[0m\n",
            "\u001b[2K   \u001b[90m━━━━━━━━━━━━━━━━━━━━━━━━━━━━━━━━━━━━━━━━\u001b[0m \u001b[32m65.2/65.2 kB\u001b[0m \u001b[31m5.5 MB/s\u001b[0m eta \u001b[36m0:00:00\u001b[0m\n",
            "\u001b[2K   \u001b[90m━━━━━━━━━━━━━━━━━━━━━━━━━━━━━━━━━━━━━━━━\u001b[0m \u001b[32m183.4/183.4 kB\u001b[0m \u001b[31m12.9 MB/s\u001b[0m eta \u001b[36m0:00:00\u001b[0m\n",
            "\u001b[2K   \u001b[90m━━━━━━━━━━━━━━━━━━━━━━━━━━━━━━━━━━━━━━━━\u001b[0m \u001b[32m65.5/65.5 kB\u001b[0m \u001b[31m5.1 MB/s\u001b[0m eta \u001b[36m0:00:00\u001b[0m\n",
            "\u001b[2K   \u001b[90m━━━━━━━━━━━━━━━━━━━━━━━━━━━━━━━━━━━━━━━━\u001b[0m \u001b[32m50.2/50.2 kB\u001b[0m \u001b[31m3.8 MB/s\u001b[0m eta \u001b[36m0:00:00\u001b[0m\n",
            "\u001b[2K   \u001b[90m━━━━━━━━━━━━━━━━━━━━━━━━━━━━━━━━━━━━━━━━\u001b[0m \u001b[32m319.7/319.7 kB\u001b[0m \u001b[31m19.6 MB/s\u001b[0m eta \u001b[36m0:00:00\u001b[0m\n",
            "\u001b[2K   \u001b[90m━━━━━━━━━━━━━━━━━━━━━━━━━━━━━━━━━━━━━━━━\u001b[0m \u001b[32m442.6/442.6 kB\u001b[0m \u001b[31m27.2 MB/s\u001b[0m eta \u001b[36m0:00:00\u001b[0m\n",
            "\u001b[2K   \u001b[90m━━━━━━━━━━━━━━━━━━━━━━━━━━━━━━━━━━━━━━━━\u001b[0m \u001b[32m2.0/2.0 MB\u001b[0m \u001b[31m42.4 MB/s\u001b[0m eta \u001b[36m0:00:00\u001b[0m\n",
            "\u001b[2K   \u001b[90m━━━━━━━━━━━━━━━━━━━━━━━━━━━━━━━━━━━━━━━━\u001b[0m \u001b[32m2.5/2.5 MB\u001b[0m \u001b[31m39.0 MB/s\u001b[0m eta \u001b[36m0:00:00\u001b[0m\n",
            "\u001b[2K   \u001b[90m━━━━━━━━━━━━━━━━━━━━━━━━━━━━━━━━━━━━━━━━\u001b[0m \u001b[32m45.7/45.7 kB\u001b[0m \u001b[31m3.4 MB/s\u001b[0m eta \u001b[36m0:00:00\u001b[0m\n",
            "\u001b[2K   \u001b[90m━━━━━━━━━━━━━━━━━━━━━━━━━━━━━━━━━━━━━━━━\u001b[0m \u001b[32m81.3/81.3 kB\u001b[0m \u001b[31m5.9 MB/s\u001b[0m eta \u001b[36m0:00:00\u001b[0m\n",
            "\u001b[2K   \u001b[90m━━━━━━━━━━━━━━━━━━━━━━━━━━━━━━━━━━━━━━━━\u001b[0m \u001b[32m293.2/293.2 kB\u001b[0m \u001b[31m20.1 MB/s\u001b[0m eta \u001b[36m0:00:00\u001b[0m\n",
            "\u001b[2K   \u001b[90m━━━━━━━━━━━━━━━━━━━━━━━━━━━━━━━━━━━━━━━━\u001b[0m \u001b[32m5.9/5.9 MB\u001b[0m \u001b[31m58.2 MB/s\u001b[0m eta \u001b[36m0:00:00\u001b[0m\n",
            "\u001b[2K   \u001b[90m━━━━━━━━━━━━━━━━━━━━━━━━━━━━━━━━━━━━━━━━\u001b[0m \u001b[32m16.4/16.4 MB\u001b[0m \u001b[31m58.0 MB/s\u001b[0m eta \u001b[36m0:00:00\u001b[0m\n",
            "\u001b[2K   \u001b[90m━━━━━━━━━━━━━━━━━━━━━━━━━━━━━━━━━━━━━━━━\u001b[0m \u001b[32m181.3/181.3 kB\u001b[0m \u001b[31m12.0 MB/s\u001b[0m eta \u001b[36m0:00:00\u001b[0m\n",
            "\u001b[2K   \u001b[90m━━━━━━━━━━━━━━━━━━━━━━━━━━━━━━━━━━━━━━━━\u001b[0m \u001b[32m229.9/229.9 kB\u001b[0m \u001b[31m17.7 MB/s\u001b[0m eta \u001b[36m0:00:00\u001b[0m\n",
            "\u001b[2K   \u001b[90m━━━━━━━━━━━━━━━━━━━━━━━━━━━━━━━━━━━━━━━━\u001b[0m \u001b[32m64.9/64.9 kB\u001b[0m \u001b[31m4.7 MB/s\u001b[0m eta \u001b[36m0:00:00\u001b[0m\n",
            "\u001b[2K   \u001b[90m━━━━━━━━━━━━━━━━━━━━━━━━━━━━━━━━━━━━━━━━\u001b[0m \u001b[32m166.4/166.4 kB\u001b[0m \u001b[31m11.7 MB/s\u001b[0m eta \u001b[36m0:00:00\u001b[0m\n",
            "\u001b[2K   \u001b[90m━━━━━━━━━━━━━━━━━━━━━━━━━━━━━━━━━━━━━━━━\u001b[0m \u001b[32m143.9/143.9 kB\u001b[0m \u001b[31m11.0 MB/s\u001b[0m eta \u001b[36m0:00:00\u001b[0m\n",
            "\u001b[2K   \u001b[90m━━━━━━━━━━━━━━━━━━━━━━━━━━━━━━━━━━━━━━━━\u001b[0m \u001b[32m70.4/70.4 kB\u001b[0m \u001b[31m5.3 MB/s\u001b[0m eta \u001b[36m0:00:00\u001b[0m\n",
            "\u001b[2K   \u001b[90m━━━━━━━━━━━━━━━━━━━━━━━━━━━━━━━━━━━━━━━━\u001b[0m \u001b[32m83.1/83.1 kB\u001b[0m \u001b[31m5.7 MB/s\u001b[0m eta \u001b[36m0:00:00\u001b[0m\n",
            "\u001b[2K   \u001b[90m━━━━━━━━━━━━━━━━━━━━━━━━━━━━━━━━━━━━━━━━\u001b[0m \u001b[32m128.4/128.4 kB\u001b[0m \u001b[31m9.6 MB/s\u001b[0m eta \u001b[36m0:00:00\u001b[0m\n",
            "\u001b[2K   \u001b[90m━━━━━━━━━━━━━━━━━━━━━━━━━━━━━━━━━━━━━━━━\u001b[0m \u001b[32m83.2/83.2 kB\u001b[0m \u001b[31m6.4 MB/s\u001b[0m eta \u001b[36m0:00:00\u001b[0m\n",
            "\u001b[?25h  Building wheel for google-cloud-aiplatform (setup.py) ... \u001b[?25l\u001b[?25hdone\n",
            "\u001b[31mERROR: pip's dependency resolver does not currently take into account all the packages that are installed. This behaviour is the source of the following dependency conflicts.\n",
            "torch 2.6.0+cu124 requires nvidia-cublas-cu12==12.4.5.8; platform_system == \"Linux\" and platform_machine == \"x86_64\", but you have nvidia-cublas-cu12 12.5.3.2 which is incompatible.\n",
            "torch 2.6.0+cu124 requires nvidia-cuda-cupti-cu12==12.4.127; platform_system == \"Linux\" and platform_machine == \"x86_64\", but you have nvidia-cuda-cupti-cu12 12.5.82 which is incompatible.\n",
            "torch 2.6.0+cu124 requires nvidia-cuda-nvrtc-cu12==12.4.127; platform_system == \"Linux\" and platform_machine == \"x86_64\", but you have nvidia-cuda-nvrtc-cu12 12.5.82 which is incompatible.\n",
            "torch 2.6.0+cu124 requires nvidia-cuda-runtime-cu12==12.4.127; platform_system == \"Linux\" and platform_machine == \"x86_64\", but you have nvidia-cuda-runtime-cu12 12.5.82 which is incompatible.\n",
            "torch 2.6.0+cu124 requires nvidia-cudnn-cu12==9.1.0.70; platform_system == \"Linux\" and platform_machine == \"x86_64\", but you have nvidia-cudnn-cu12 9.3.0.75 which is incompatible.\n",
            "torch 2.6.0+cu124 requires nvidia-cufft-cu12==11.2.1.3; platform_system == \"Linux\" and platform_machine == \"x86_64\", but you have nvidia-cufft-cu12 11.2.3.61 which is incompatible.\n",
            "torch 2.6.0+cu124 requires nvidia-curand-cu12==10.3.5.147; platform_system == \"Linux\" and platform_machine == \"x86_64\", but you have nvidia-curand-cu12 10.3.6.82 which is incompatible.\n",
            "torch 2.6.0+cu124 requires nvidia-cusolver-cu12==11.6.1.9; platform_system == \"Linux\" and platform_machine == \"x86_64\", but you have nvidia-cusolver-cu12 11.6.3.83 which is incompatible.\n",
            "torch 2.6.0+cu124 requires nvidia-cusparse-cu12==12.3.1.170; platform_system == \"Linux\" and platform_machine == \"x86_64\", but you have nvidia-cusparse-cu12 12.5.1.3 which is incompatible.\n",
            "torch 2.6.0+cu124 requires nvidia-nvjitlink-cu12==12.4.127; platform_system == \"Linux\" and platform_machine == \"x86_64\", but you have nvidia-nvjitlink-cu12 12.5.82 which is incompatible.\n",
            "numba 0.60.0 requires numpy<2.1,>=1.22, but you have numpy 2.2.4 which is incompatible.\n",
            "tensorflow 2.18.0 requires numpy<2.1.0,>=1.26.0, but you have numpy 2.2.4 which is incompatible.\u001b[0m\u001b[31m\n",
            "\u001b[0m"
          ]
        }
      ],
      "source": [
        "FOLDER = \"gs://agent_framework/history/\"\n",
        "\n",
        "!gsutil cp {FOLDER}{WHL_FILE} .\n",
        "!pip3 install google_adk-0.0.2.dev*.whl --ignore-requires-python --quiet ## for the google-adk in private preview\n",
        "!pip3 install \"google-cloud-aiplatform[agent_engines] @ git+https://github.com/googleapis/python-aiplatform.git@copybara_738852226\" --force-reinstall --quiet ## for the prebuilt template"
      ]
    },
    {
      "cell_type": "markdown",
      "metadata": {
        "id": "osm6MztSEX2y"
      },
      "source": [
        "# Initialization"
      ]
    },
    {
      "cell_type": "code",
      "execution_count": null,
      "metadata": {
        "id": "eHqvFbvjyRUG"
      },
      "outputs": [],
      "source": [
        "import vertexai\n",
        "from vertexai import agent_engines\n",
        "\n",
        "PROJECT_ID = \"reasoning-engine-test-1\" #@param {type:\"string\"}\n",
        "STAGING_BUCKET = \"gs://reasoning-engine-test-1-bucket\" #@param {type:\"string\"}\n",
        "\n",
        "vertexai.init(\n",
        "    project=PROJECT_ID,\n",
        "    location=\"us-central1\",\n",
        "    staging_bucket=STAGING_BUCKET,\n",
        ")"
      ]
    },
    {
      "cell_type": "markdown",
      "metadata": {
        "id": "1-rAplcsx22u"
      },
      "source": [
        "# Defining functions\n",
        "roll_die - rolls dice to create random number\n",
        "\n",
        "check_prime - checks if a number is prime"
      ]
    },
    {
      "cell_type": "code",
      "execution_count": null,
      "metadata": {
        "id": "l1G9gtSDw8yt"
      },
      "outputs": [],
      "source": [
        "def roll_die(sides: int) -> int:\n",
        "  \"\"\"Roll a die and return the rolled result.\n",
        "\n",
        "  Args:\n",
        "    sides: The integer number of sides the die has.\n",
        "\n",
        "  Returns:\n",
        "    An integer of the result of rolling the die.\n",
        "  \"\"\"\n",
        "  import random\n",
        "\n",
        "  return random.randint(1, sides)"
      ]
    },
    {
      "cell_type": "code",
      "execution_count": null,
      "metadata": {
        "id": "X4buHPVnxA1P"
      },
      "outputs": [],
      "source": [
        "def check_prime(nums: list[int]) -> list[str]:\n",
        "  \"\"\"Check if a given list of numbers are prime.\n",
        "\n",
        "  Args:\n",
        "    nums: The list of numbers to check.\n",
        "\n",
        "  Returns:\n",
        "    A str indicating which number is prime.\n",
        "  \"\"\"\n",
        "\n",
        "  primes = set()\n",
        "  for number in nums:\n",
        "    number = int(number)\n",
        "    if number <= 1:\n",
        "      continue\n",
        "    is_prime = True\n",
        "    for i in range(2, int(number**0.5) + 1):\n",
        "      if number % i == 0:\n",
        "        is_prime = False\n",
        "        break\n",
        "    if is_prime:\n",
        "      primes.add(number)\n",
        "  return (\n",
        "      'No prime numbers found.'\n",
        "      if not primes\n",
        "      else f\"{', '.join(str(num) for num in primes)} are prime numbers.\"\n",
        "  )"
      ]
    },
    {
      "cell_type": "markdown",
      "metadata": {
        "id": "meW7SNrTyCgn"
      },
      "source": [
        "# Define an agent in the agent framework\n",
        "\n",
        "An AI agent reasons, plans, and takes actions. The agent takes actions via access to **tools**, deciding how and when to invoke a tool. The agent also manages orchestration, creating a plan for answering a user query and adapting to responses that aren't quite correct.\n",
        "\n",
        "Create a simple agent. An agent requires two things: a display name and a set of instructions. The instructions should be detailed, making it clear exactly how the agent should behave.\n",
        "\n"
      ]
    },
    {
      "cell_type": "code",
      "execution_count": null,
      "metadata": {
        "colab": {
          "base_uri": "https://localhost:8080/"
        },
        "id": "qgSJyIHvyWWY",
        "outputId": "ca9baa94-94ae-41f4-c651-420958bd4d6d"
      },
      "outputs": [
        {
          "data": {
            "text/plain": [
              "<vertexai.agent_engines.templates.adk.ADKApp at 0x783879e0d4d0>"
            ]
          },
          "execution_count": 5,
          "metadata": {},
          "output_type": "execute_result"
        }
      ],
      "source": [
        "from google.adk.agents import Agent\n",
        "\n",
        "agent = Agent(\n",
        "    model=\"gemini-1.5-flash-002\",\n",
        "    name='data_processing_agent',\n",
        "    instruction=\"\"\"\n",
        "      You roll dice and answer questions about the outcome of the dice rolls.\n",
        "      You can roll dice of different sizes.\n",
        "      You can use multiple tools in parallel by calling functions in parallel(in one request and in one round).\n",
        "      The only things you do are roll dice for the user and discuss the outcomes.\n",
        "      It is ok to discuss previous dice roles, and comment on the dice rolls.\n",
        "      When you are asked to roll a die, you must call the roll_die tool with the number of sides. Be sure to pass in an integer. Do not pass in a string.\n",
        "      You should never roll a die on your own.\n",
        "      When checking prime numbers, call the check_prime tool with a list of integers. Be sure to pass in a list of integers. You should never pass in a string.\n",
        "      You should not check prime numbers before calling the tool.\n",
        "      When you are asked to roll a die and check prime numbers, you should always make the following two function calls:\n",
        "      1. You should first call the roll_die tool to get a roll. Wait for the function response before calling the check_prime tool.\n",
        "      2. After you get the function response from roll_die tool, you should call the check_prime tool with the roll_die result.\n",
        "        2.1 If user asks you to check primes based on previous rolls, make sure you include the previous rolls in the list.\n",
        "      3. When you respond, you must include the roll_die result from step 1.\n",
        "      You should always perform the previous 3 steps when asking for a roll and checking prime numbers.\n",
        "      You should not rely on the previous history on prime results.\n",
        "    \"\"\",\n",
        "    tools=[roll_die, check_prime],\n",
        ")\n",
        "\n",
        "app = agent_engines.ADKApp(\n",
        "    agent=agent,\n",
        "    enable_tracing=True,\n",
        "    app_name=\"test-app\", # optional\n",
        ")\n",
        "\n",
        "app"
      ]
    },
    {
      "cell_type": "code",
      "execution_count": null,
      "metadata": {
        "colab": {
          "base_uri": "https://localhost:8080/"
        },
        "id": "6RUZv3kst-vp",
        "outputId": "718eb5fd-7490-4731-c347-5860a7e0d38e"
      },
      "outputs": [
        {
          "data": {
            "text/plain": [
              "{'': ['get_session',\n",
              "  'list_sessions',\n",
              "  'create_session',\n",
              "  'delete_session',\n",
              "  'list_events'],\n",
              " 'stream': ['stream_query', 'streaming_agent_run_with_events']}"
            ]
          },
          "execution_count": 6,
          "metadata": {},
          "output_type": "execute_result"
        }
      ],
      "source": [
        "app.register_operations()"
      ]
    },
    {
      "cell_type": "markdown",
      "metadata": {
        "id": "4yRbuebi-Zh6"
      },
      "source": [
        "## Let's try it (locally)\n",
        "\n",
        "Under the hood, `app: ADKApp` will be using an in-memory session store when running locally.\n",
        "\n",
        "**Remark**: the operations below (i.e., `.create_session`, `.list_sessions`, `.get_session`, `.stream_query`) are only supported by the `agent_engines.ADKApp` class, not the `google.adk.agents.Agent` class."
      ]
    },
    {
      "cell_type": "code",
      "execution_count": null,
      "metadata": {
        "colab": {
          "base_uri": "https://localhost:8080/"
        },
        "id": "Zkymo9fmyWY_",
        "outputId": "bb550981-ce7e-4400-cf05-faf0438e62df"
      },
      "outputs": [
        {
          "data": {
            "text/plain": [
              "Session(id='6d94cff6-f9c1-4941-af28-89261ba0f965', app_name='test-app', user_id='ysian', state={}, events=[], last_update_time=1743476013.149413)"
            ]
          },
          "execution_count": 7,
          "metadata": {},
          "output_type": "execute_result"
        }
      ],
      "source": [
        "session = app.create_session(user_id=\"ysian\")\n",
        "session"
      ]
    },
    {
      "cell_type": "code",
      "execution_count": null,
      "metadata": {
        "colab": {
          "base_uri": "https://localhost:8080/"
        },
        "id": "tRo1Yb-TyWc9",
        "outputId": "993ad6bc-9295-4d80-ef53-148d40247e7d"
      },
      "outputs": [
        {
          "data": {
            "text/plain": [
              "ListSessionsResponse(session_ids=['6d94cff6-f9c1-4941-af28-89261ba0f965'])"
            ]
          },
          "execution_count": 8,
          "metadata": {},
          "output_type": "execute_result"
        }
      ],
      "source": [
        "app.list_sessions(user_id=\"ysian\")"
      ]
    },
    {
      "cell_type": "code",
      "execution_count": null,
      "metadata": {
        "colab": {
          "base_uri": "https://localhost:8080/"
        },
        "id": "XHbEizi-2u8I",
        "outputId": "0e75abeb-8929-4da8-a3b0-7e7bd1ee7e94"
      },
      "outputs": [
        {
          "data": {
            "text/plain": [
              "Session(id='6d94cff6-f9c1-4941-af28-89261ba0f965', app_name='test-app', user_id='ysian', state={}, events=[], last_update_time=1743476013.149413)"
            ]
          },
          "execution_count": 9,
          "metadata": {},
          "output_type": "execute_result"
        }
      ],
      "source": [
        "session = app.get_session(user_id=\"ysian\", session_id=session.id)\n",
        "session"
      ]
    },
    {
      "cell_type": "code",
      "execution_count": null,
      "metadata": {
        "colab": {
          "base_uri": "https://localhost:8080/"
        },
        "id": "BR6naQrl2u_a",
        "outputId": "c3b3acee-c014-4eea-a6a0-36201f2b3df1"
      },
      "outputs": [
        {
          "name": "stderr",
          "output_type": "stream",
          "text": [
            "WARNING:google_genai.types:Warning: there are non-text parts in the response: ['function_call'],returning concatenated text result from text parts,check out the non text parts for full response from model.\n"
          ]
        },
        {
          "name": "stdout",
          "output_type": "stream",
          "text": [
            "{'parts': [{'function_call': {'id': 'af-54346058-4f09-484c-859f-a7ecf7468acb', 'args': {'sides': 2}, 'name': 'roll_die'}}], 'role': 'model'}\n",
            "{'parts': [{'function_response': {'id': 'af-54346058-4f09-484c-859f-a7ecf7468acb', 'name': 'roll_die', 'response': {'result': 2}}}], 'role': 'user'}\n",
            "{'parts': [{'text': 'I rolled a 2.\\n'}], 'role': 'model'}\n"
          ]
        }
      ],
      "source": [
        "for event in app.stream_query(\n",
        "    user_id=\"ysian\",\n",
        "    session_id=session.id,\n",
        "    message=\"roll a 2 sided die\",\n",
        "):\n",
        "    print(event)"
      ]
    },
    {
      "cell_type": "code",
      "execution_count": null,
      "metadata": {
        "colab": {
          "base_uri": "https://localhost:8080/"
        },
        "id": "05d3OCNCS-4i",
        "outputId": "e0479e78-e4ae-48d1-bbdd-10f25a3aa444"
      },
      "outputs": [
        {
          "name": "stderr",
          "output_type": "stream",
          "text": [
            "Event from an unknown agent: AgentSpace_root_agent, event id: 14076651604820872102\n",
            "Event from an unknown agent: AgentSpace_root_agent, event id: wrWG0v77\n"
          ]
        },
        {
          "name": "stdout",
          "output_type": "stream",
          "text": [
            "{'events': [{'content': {'parts': [{'text': \"I'm a large language model, trained by Google.  I'm built using a technique called deep learning, which involves training a neural network on a massive dataset of text and code.  This allows me to understand and generate human-like text, translate languages, and answer your questions in an informative way.\\n\"}], 'role': 'model'}, 'invocation_id': 'e-7abb5dd0-7935-42cf-ac46-fb55afb96399', 'author': 'data_processing_agent', 'actions': {'state_delta': {}, 'artifact_delta': {}, 'requested_auth_configs': {}}, 'id': 'IBbYjcLm', 'timestamp': 1743476493.185047}]}\n"
          ]
        }
      ],
      "source": [
        "agent_context = '{\"message\":{\"role\":\"user\",\"parts\":[{\"text\":\"How were you built?\"}]},\"events\":[{\"content\":{\"role\":\"user\",\"parts\":[{\"text\":\"how were you built ?\"}]},\"author\":\"AgentSpace_root_agent\"},{\"content\":{\"role\":\"model\",\"parts\":[{\"functionCall\":{\"name\":\"agentspaceak\",\"args\":{\"question\":\"How were you built?\"},\"id\":\"14076651604820872102\"}}]},\"invocation_id\":\"14076651604820871801\",\"author\":\"AgentSpace_root_agent\",\"id\":\"14076651604820872102\"}]}'\n",
        "\n",
        "for response in app.streaming_agent_run_with_events(agent_context):\n",
        "    print(response)"
      ]
    },
    {
      "cell_type": "code",
      "execution_count": null,
      "metadata": {
        "colab": {
          "base_uri": "https://localhost:8080/"
        },
        "id": "LU2l4NnzuJDN",
        "outputId": "c6c9f09d-ef6d-4877-c486-e51e17592874"
      },
      "outputs": [
        {
          "name": "stderr",
          "output_type": "stream",
          "text": [
            "Event from an unknown agent: AgentSpace_root_agent, event id: 14076651604820872102\n",
            "Event from an unknown agent: AgentSpace_root_agent, event id: kwHUEAI1\n"
          ]
        },
        {
          "name": "stdout",
          "output_type": "stream",
          "text": [
            "{'content': {'parts': [{'text': 'I\\'m a large language model, trained by Google.  I don\\'t have personal experiences like humans do, so I can\\'t describe my \"building\" in the same way.  My development involved training on a massive dataset of text and code, allowing me to learn patterns and generate human-like text.\\n'}], 'role': 'model'}, 'invocation_id': 'e-7653b04d-dd7c-438d-bb2d-f5048c84cee2', 'author': 'data_processing_agent', 'actions': {'state_delta': {}, 'artifact_delta': {}, 'requested_auth_configs': {}}, 'id': 'Yas6wtCN', 'timestamp': 1743476077.147322}\n"
          ]
        }
      ],
      "source": [
        "agent_context = '{\"message\":{\"role\":\"user\",\"parts\":[{\"text\":\"How were you built?\"}]},\"events\":[{\"content\":{\"role\":\"user\",\"parts\":[{\"text\":\"how were you built ?\"}]},\"author\":\"AgentSpace_root_agent\"},{\"content\":{\"role\":\"model\",\"parts\":[{\"functionCall\":{\"name\":\"agentspaceak\",\"args\":{\"question\":\"How were you built?\"},\"id\":\"14076651604820872102\"}}]},\"invocation_id\":\"14076651604820871801\",\"author\":\"AgentSpace_root_agent\",\"id\":\"14076651604820872102\"}]}'\n",
        "\n",
        "for response in app.streaming_agent_run_with_events(agent_context):\n",
        "    for event in response.get(\"events\", []):\n",
        "        print(event)"
      ]
    },
    {
      "cell_type": "markdown",
      "metadata": {
        "id": "iUE7ygI6cfOk"
      },
      "source": [
        "You can navigate to https://pantheon.corp.google.com/traces/explorer;project=reasoning-engine-test-1 to view the traces for it (they might take some time to show up).\n",
        "* If you don't have the permissions to view them in Cloud Trace, please follow the instructions in https://cloud.google.com/trace/docs/finding-traces#before_you_begin to grant yourself permission to use Trace Explorer with the project."
      ]
    },
    {
      "cell_type": "markdown",
      "metadata": {
        "id": "VijvAI4TZp8H"
      },
      "source": [
        "# Deploy to Vertex AI Agent Engine\n",
        "To call and manage ADK applications in production, deploy the `app` to Vertex AI Agent Engine."
      ]
    },
    {
      "cell_type": "code",
      "execution_count": null,
      "metadata": {
        "colab": {
          "base_uri": "https://localhost:8080/"
        },
        "id": "enNZwvEUXt6o",
        "outputId": "c3efde2f-2a03-4a14-b8aa-a206017d1183"
      },
      "outputs": [
        {
          "name": "stderr",
          "output_type": "stream",
          "text": [
            "INFO:vertexai.agent_engines:Identified the following requirements: {'google-cloud-aiplatform': '1.86.0', 'cloudpickle': '3.1.1'}\n",
            "WARNING:vertexai.agent_engines:Failed to parse constraint: google_adk-0.0.2.dev20250326+nightly740999296-py3-none-any.whl. Exception: Expected end or semicolon (after name and no valid version specifier)\n",
            "    google_adk-0.0.2.dev20250326+nightly740999296-py3-none-any.whl\n",
            "                                ^\n",
            "WARNING:vertexai.agent_engines:The following requirements are missing: {'cloudpickle'}\n",
            "INFO:vertexai.agent_engines:The following requirements are appended: {'cloudpickle==3.1.1'}\n",
            "INFO:vertexai.agent_engines:The final list of requirements: ['google_adk-0.0.2.dev20250326+nightly740999296-py3-none-any.whl', 'google-cloud-aiplatform[agent_engines] @ git+https://github.com/googleapis/python-aiplatform.git@copybara_738852226', 'cloudpickle==3.1.1']\n",
            "INFO:vertexai.agent_engines:Using bucket reasoning-engine-test-1-bucket\n",
            "INFO:vertexai.agent_engines:Wrote to gs://reasoning-engine-test-1-bucket/agent_engine/agent_engine.pkl\n",
            "INFO:vertexai.agent_engines:Writing to gs://reasoning-engine-test-1-bucket/agent_engine/requirements.txt\n",
            "INFO:vertexai.agent_engines:Creating in-memory tarfile of extra_packages\n",
            "INFO:vertexai.agent_engines:Writing to gs://reasoning-engine-test-1-bucket/agent_engine/dependencies.tar.gz\n",
            "INFO:vertexai.agent_engines:Creating AgentEngine\n",
            "INFO:vertexai.agent_engines:Create AgentEngine backing LRO: projects/349765473021/locations/us-central1/reasoningEngines/9206633071833513984/operations/2146267691218894848\n",
            "INFO:vertexai.agent_engines:View progress and logs at https://console.cloud.google.com/logs/query?project=reasoning-engine-test-1\n",
            "INFO:vertexai.agent_engines:AgentEngine created. Resource name: projects/349765473021/locations/us-central1/reasoningEngines/9206633071833513984\n",
            "INFO:vertexai.agent_engines:To use this AgentEngine in another session:\n",
            "INFO:vertexai.agent_engines:agent_engine = vertexai.agent_engines.get('projects/349765473021/locations/us-central1/reasoningEngines/9206633071833513984')\n"
          ]
        }
      ],
      "source": [
        "remote_app = agent_engines.create(\n",
        "    app,\n",
        "    requirements=[\n",
        "        WHL_FILE,\n",
        "        \"google-cloud-aiplatform[agent_engines] @ git+https://github.com/googleapis/python-aiplatform.git@copybara_738852226\",\n",
        "    ],\n",
        "    extra_packages=[\n",
        "        WHL_FILE,\n",
        "    ],\n",
        ")"
      ]
    },
    {
      "cell_type": "markdown",
      "metadata": {
        "id": "eK4He7dV_g13"
      },
      "source": [
        "**Remark**: You can ignore the following warnings:\n",
        "* (i) `WARNING:vertexai.agent_engines:Failed to parse constraint: ` and\n",
        "* (ii) `WARNING:vertexai.agent_engines:The following requirements are missing: {'cloudpickle'}`\n",
        "\n",
        "We have auto-heal mechanisms to still reflect them in the final list of requirements: `INFO:vertexai.agent_engines:The final list of requirements`"
      ]
    },
    {
      "cell_type": "markdown",
      "metadata": {
        "id": "bPuswSHLhF_Q"
      },
      "source": [
        "**Remark**: The automatic provisioning of permissions for Vertex AI Sessions have not rolled out yet, so you'll have to follow https://cloud.google.com/vertex-ai/generative-ai/docs/agent-engine/set-up#service-agent in the meantime to grant \"Vertex AI User\" (`roles/aiplatform.user`) to the service account in your GCP project"
      ]
    },
    {
      "cell_type": "markdown",
      "metadata": {
        "id": "1ItR7ekDraxK"
      },
      "source": [
        "## Let's try it (remotely)"
      ]
    },
    {
      "cell_type": "code",
      "execution_count": null,
      "metadata": {
        "colab": {
          "base_uri": "https://localhost:8080/"
        },
        "id": "6lviXEuUlTkP",
        "outputId": "61f95efa-99b5-48fe-fe15-7a5d2cc0123d"
      },
      "outputs": [
        {
          "name": "stdout",
          "output_type": "stream",
          "text": [
            "[{'api_mode': '',\n",
            "  'description': None,\n",
            "  'name': 'get_session',\n",
            "  'parameters': {'properties': {'session_id': {'type': 'string'},\n",
            "                                'user_id': {'type': 'string'}},\n",
            "                 'required': ['user_id', 'session_id'],\n",
            "                 'type': 'object'}},\n",
            " {'api_mode': '',\n",
            "  'description': None,\n",
            "  'name': 'list_sessions',\n",
            "  'parameters': {'properties': {'user_id': {'type': 'string'}},\n",
            "                 'required': ['user_id'],\n",
            "                 'type': 'object'}},\n",
            " {'api_mode': '',\n",
            "  'description': None,\n",
            "  'name': 'create_session',\n",
            "  'parameters': {'properties': {'session_id': {'nullable': True,\n",
            "                                               'type': 'string'},\n",
            "                                'state': {'nullable': True, 'type': 'object'},\n",
            "                                'user_id': {'type': 'string'}},\n",
            "                 'required': ['user_id'],\n",
            "                 'type': 'object'}},\n",
            " {'api_mode': '',\n",
            "  'description': None,\n",
            "  'name': 'delete_session',\n",
            "  'parameters': {'properties': {'session_id': {'type': 'string'},\n",
            "                                'user_id': {'type': 'string'}},\n",
            "                 'required': ['user_id', 'session_id'],\n",
            "                 'type': 'object'}},\n",
            " {'api_mode': '',\n",
            "  'description': None,\n",
            "  'name': 'list_events',\n",
            "  'parameters': {'properties': {'session_id': {'type': 'string'},\n",
            "                                'user_id': {'type': 'string'}},\n",
            "                 'required': ['user_id', 'session_id'],\n",
            "                 'type': 'object'}},\n",
            " {'api_mode': 'stream',\n",
            "  'description': None,\n",
            "  'name': 'stream_query',\n",
            "  'parameters': {'properties': {'message': {'type': 'string'},\n",
            "                                'session_id': {'type': 'string'},\n",
            "                                'user_id': {'type': 'string'}},\n",
            "                 'required': ['message', 'user_id', 'session_id'],\n",
            "                 'type': 'object'}},\n",
            " {'api_mode': 'stream',\n",
            "  'description': None,\n",
            "  'name': 'streaming_agent_run_with_events',\n",
            "  'parameters': {'properties': {'request_json': {'type': 'string'}},\n",
            "                 'required': ['request_json'],\n",
            "                 'type': 'object'}}]\n"
          ]
        }
      ],
      "source": [
        "import pprint\n",
        "\n",
        "pprint.pprint(remote_app.operation_schemas())"
      ]
    },
    {
      "cell_type": "code",
      "execution_count": null,
      "metadata": {
        "colab": {
          "base_uri": "https://localhost:8080/"
        },
        "id": "B9R4GKDkcY6C",
        "outputId": "4f1f63d1-b1da-493c-b867-7a60badf7bb3"
      },
      "outputs": [
        {
          "data": {
            "text/plain": [
              "{'events': [],\n",
              " 'last_update_time': 1743476405.532781,\n",
              " 'state': {},\n",
              " 'id': '1808138625540423680',\n",
              " 'app_name': '9206633071833513984',\n",
              " 'user_id': 'ysian'}"
            ]
          },
          "execution_count": 16,
          "metadata": {},
          "output_type": "execute_result"
        }
      ],
      "source": [
        "session1 = remote_app.create_session(user_id=\"ysian\")\n",
        "session1"
      ]
    },
    {
      "cell_type": "code",
      "execution_count": null,
      "metadata": {
        "colab": {
          "base_uri": "https://localhost:8080/"
        },
        "id": "zcFo8SUqca-i",
        "outputId": "64cade9f-2a6a-4482-9a8c-ba31aee6a027"
      },
      "outputs": [
        {
          "data": {
            "text/plain": [
              "{'session_ids': ['1808138625540423680']}"
            ]
          },
          "execution_count": 17,
          "metadata": {},
          "output_type": "execute_result"
        }
      ],
      "source": [
        "remote_app.list_sessions(user_id=\"ysian\")"
      ]
    },
    {
      "cell_type": "code",
      "execution_count": null,
      "metadata": {
        "colab": {
          "base_uri": "https://localhost:8080/"
        },
        "id": "R2oa4YmVccoN",
        "outputId": "e346f80c-32ab-4bb8-e1a5-9a5fd0228fff"
      },
      "outputs": [
        {
          "data": {
            "text/plain": [
              "{'events': [],\n",
              " 'user_id': 'ysian',\n",
              " 'state': {},\n",
              " 'id': '1808138625540423680',\n",
              " 'app_name': '9206633071833513984',\n",
              " 'last_update_time': 1743476405.532781}"
            ]
          },
          "execution_count": 18,
          "metadata": {},
          "output_type": "execute_result"
        }
      ],
      "source": [
        "session = remote_app.get_session(user_id=\"ysian\", session_id=session1[\"id\"])\n",
        "session"
      ]
    },
    {
      "cell_type": "code",
      "execution_count": null,
      "metadata": {
        "colab": {
          "base_uri": "https://localhost:8080/"
        },
        "id": "8gsV87JPt4IL",
        "outputId": "ae81257a-2735-4dec-e51d-878ec235656f"
      },
      "outputs": [
        {
          "name": "stdout",
          "output_type": "stream",
          "text": [
            "{'parts': [{'function_call': {'id': 'af-3903d72b-6a45-45a5-a626-c733ede546c1', 'args': {'sides': 2}, 'name': 'roll_die'}}], 'role': 'model'}\n",
            "{'parts': [{'function_response': {'id': 'af-3903d72b-6a45-45a5-a626-c733ede546c1', 'name': 'roll_die', 'response': {'result': 1}}}], 'role': 'user'}\n",
            "{'parts': [{'text': 'I rolled a 2 sided die and got 1.\\n'}], 'role': 'model'}\n"
          ]
        }
      ],
      "source": [
        "for event in remote_app.stream_query(\n",
        "    user_id=\"ysian\",\n",
        "    session_id=session1[\"id\"],\n",
        "    message=\"roll a 2 sided die\",\n",
        "):\n",
        "    print(event)"
      ]
    },
    {
      "cell_type": "code",
      "execution_count": null,
      "metadata": {
        "colab": {
          "base_uri": "https://localhost:8080/"
        },
        "id": "NrhJLnHJrhFZ",
        "outputId": "37f30108-1c93-451f-f628-ea44a4c2bdc5"
      },
      "outputs": [
        {
          "name": "stdout",
          "output_type": "stream",
          "text": [
            "{'parts': [{'text': 'The only roll so far was a 1 on a 2 sided die.\\n'}], 'role': 'model'}\n"
          ]
        }
      ],
      "source": [
        "for event in remote_app.stream_query(\n",
        "    user_id=\"ysian\",\n",
        "    session_id=session1[\"id\"],\n",
        "    message=\"What were the previous rolls?\",\n",
        "):\n",
        "    print(event)"
      ]
    },
    {
      "cell_type": "code",
      "execution_count": null,
      "metadata": {
        "colab": {
          "base_uri": "https://localhost:8080/"
        },
        "id": "l159w4T8tuvS",
        "outputId": "d6d27122-07dd-4947-b016-0ffe7e79621d"
      },
      "outputs": [
        {
          "name": "stdout",
          "output_type": "stream",
          "text": [
            "{'events': [{'content': {'parts': [{'text': \"I'm a large language model, trained by Google.  I'm built using a massive dataset of text and code, and trained using techniques like deep learning.\\n\"}], 'role': 'model'}, 'invocation_id': 'e-b664b565-4c40-430b-bac5-2ed963a5a7fb', 'author': 'data_processing_agent', 'actions': {'state_delta': {}, 'artifact_delta': {}, 'requested_auth_configs': {}}, 'id': '7lIOJS7j', 'timestamp': 1743477026.393639}]}\n"
          ]
        }
      ],
      "source": [
        "agent_context = '{\"message\":{\"role\":\"user\",\"parts\":[{\"text\":\"How were you built?\"}]},\"events\":[{\"content\":{\"role\":\"user\",\"parts\":[{\"text\":\"how were you built ?\"}]},\"invocation_id\":\"1407665160482087180\",\"author\":\"AgentSpace_root_agent\"},{\"content\":{\"role\":\"model\",\"parts\":[{\"functionCall\":{\"name\":\"agentspaceak\",\"args\":{\"question\":\"How were you built?\"},\"id\":\"14076651604820872102\"}}]},\"invocation_id\":\"14076651604820871801\",\"author\":\"AgentSpace_root_agent\",\"id\":\"14076651604820872102\"}]}'\n",
        "\n",
        "for event in remote_app.streaming_agent_run_with_events(request_json=agent_context):\n",
        "    print(event)"
      ]
    },
    {
      "cell_type": "markdown",
      "metadata": {
        "id": "jKGx9zFBsKw7"
      },
      "source": [
        "# AgentSpace integration\n",
        "\n",
        "First, submit request to @krzysiekw with your GCP project number and Agentspace app URL\n",
        "https://docs.google.com/document/d/1aNIgYM_CphUY4ay8oTn3yxUtRSTcn-TSNYkH2jdlyFs\n",
        "\n",
        "Next, update config to link Agent to Agentspace:"
      ]
    },
    {
      "cell_type": "code",
      "execution_count": null,
      "metadata": {
        "id": "NL1PaRWSsM7m"
      },
      "outputs": [],
      "source": [
        "%%bash\n",
        "export PROJECT_ID=\"ucs-ga-fishfood-1\"\n",
        "export PROJECT_NUMBER=\"862721868538\"\n",
        "export REASONING_ENGINE=\"projects/862721868538/locations/us-central1/reasoningEngines/4056344685470285824\"\n",
        "export AGENT_DISPLAY_NAME=\"Test Agent\"\n",
        "export AGENT_DESCRIPTION=\"The agent can only answer how it was built.\"\n",
        "export AGENT_ID=\"test_agent\"\n",
        "export AS_APP=\"itsm-agent-dogfood_1742417292379\"\n",
        "\n",
        "curl -X PATCH -H \"Authorization: Bearer $(gcloud auth print-access-token)\" \\\n",
        "-H \"Content-Type: application/json\" \\\n",
        "-H \"x-goog-user-project: ${PROJECT_ID}\" \\\n",
        "https://discoveryengine.googleapis.com/v1alpha/projects/${PROJECT_NUMBER}/locations/global/collections/default_collection/engines/${AS_APP}/assistants/default_assistant?updateMask=agent_configs -d '{\n",
        "    \"name\": \"projects/${PROJECT_NUMBER}/locations/global/collections/default_collection/engines/${AS_APP}/assistants/default_assistant\",\n",
        "    \"displayName\": \"Default Assistant\",\n",
        "    \"agentConfigs\": [{\n",
        "      \"displayName\": \"'\"${AGENT_DISPLAY_NAME}\"'\",\n",
        "      \"vertexAiSdkAgentConnectionInfo\": {\n",
        "        \"reasoningEngine\": \"'\"${REASONING_ENGINE}\"'\"\n",
        "      },\n",
        "      \"toolDescription\": \"'\"${AGENT_DESCRIPTION}\"'\",\n",
        "      \"icon\": {\n",
        "        \"uri\": \"https://fonts.gstatic.com/s/i/short-term/release/googlesymbols/corporate_fare/default/24px.svg\"\n",
        "      },\n",
        "      \"id\": \"'\"${AGENT_ID}\"'\"\n",
        "    }]\n",
        "  }'"
      ]
    },
    {
      "cell_type": "markdown",
      "metadata": {
        "id": "sNJWA-ifscep"
      },
      "source": [
        "Finally, try the Agentspace UI:\n",
        "\n",
        "1. Open up the Agentspace app in GCP console\n",
        "2. From left menu, click `Integration`\n",
        "3. Open the URL provided\n",
        "4. From left menu, select the agent deployed"
      ]
    },
    {
      "cell_type": "markdown",
      "metadata": {
        "id": "Q80NTTyGs939"
      },
      "source": [
        "# Clean up"
      ]
    },
    {
      "cell_type": "code",
      "execution_count": null,
      "metadata": {
        "colab": {
          "base_uri": "https://localhost:8080/"
        },
        "id": "GCel9M-YsdUr",
        "outputId": "3bd3361c-626c-4eaa-ae5e-e78becdd2be3"
      },
      "outputs": [
        {
          "name": "stderr",
          "output_type": "stream",
          "text": [
            "INFO:vertexai.agent_engines:Delete Agent Engine backing LRO: projects/349765473021/locations/us-central1/operations/6970185842086117376\n",
            "INFO:vertexai.agent_engines:Agent Engine deleted. Resource name: projects/349765473021/locations/us-central1/reasoningEngines/9206633071833513984\n"
          ]
        }
      ],
      "source": [
        "remote_app.delete(force=True)"
      ]
    },
    {
      "cell_type": "code",
      "execution_count": null,
      "metadata": {
        "id": "2PbQkc8YtAKK"
      },
      "outputs": [],
      "source": []
    }
  ],
  "metadata": {
    "colab": {
      "provenance": [],
      "toc_visible": true
    },
    "kernelspec": {
      "display_name": "Python 3",
      "name": "python3"
    },
    "language_info": {
      "name": "python"
    }
  },
  "nbformat": 4,
  "nbformat_minor": 0
}
